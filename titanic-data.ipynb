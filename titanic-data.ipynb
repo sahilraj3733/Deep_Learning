{
 "cells": [
  {
   "cell_type": "code",
   "execution_count": 1,
   "id": "f44df6e8",
   "metadata": {
    "_cell_guid": "b1076dfc-b9ad-4769-8c92-a6c4dae69d19",
    "_uuid": "8f2839f25d086af736a60e9eeb907d3b93b6e0e5",
    "execution": {
     "iopub.execute_input": "2025-03-24T06:29:22.627850Z",
     "iopub.status.busy": "2025-03-24T06:29:22.627519Z",
     "iopub.status.idle": "2025-03-24T06:29:25.492671Z",
     "shell.execute_reply": "2025-03-24T06:29:25.491496Z"
    },
    "papermill": {
     "duration": 2.876678,
     "end_time": "2025-03-24T06:29:25.494649",
     "exception": false,
     "start_time": "2025-03-24T06:29:22.617971",
     "status": "completed"
    },
    "tags": []
   },
   "outputs": [],
   "source": [
    "import numpy as np \n",
    "import pandas as pd \n",
    "import matplotlib.pyplot as plt\n",
    "import seaborn as sns\n",
    "from sklearn.model_selection import train_test_split\n",
    "from sklearn.preprocessing import StandardScaler\n",
    "from sklearn.metrics import precision_score"
   ]
  },
  {
   "cell_type": "code",
   "execution_count": 2,
   "id": "a71b7a64",
   "metadata": {
    "execution": {
     "iopub.execute_input": "2025-03-24T06:29:25.512306Z",
     "iopub.status.busy": "2025-03-24T06:29:25.511757Z",
     "iopub.status.idle": "2025-03-24T06:29:25.554573Z",
     "shell.execute_reply": "2025-03-24T06:29:25.553627Z"
    },
    "papermill": {
     "duration": 0.053211,
     "end_time": "2025-03-24T06:29:25.556278",
     "exception": false,
     "start_time": "2025-03-24T06:29:25.503067",
     "status": "completed"
    },
    "tags": []
   },
   "outputs": [
    {
     "data": {
      "text/html": [
       "<div>\n",
       "<style scoped>\n",
       "    .dataframe tbody tr th:only-of-type {\n",
       "        vertical-align: middle;\n",
       "    }\n",
       "\n",
       "    .dataframe tbody tr th {\n",
       "        vertical-align: top;\n",
       "    }\n",
       "\n",
       "    .dataframe thead th {\n",
       "        text-align: right;\n",
       "    }\n",
       "</style>\n",
       "<table border=\"1\" class=\"dataframe\">\n",
       "  <thead>\n",
       "    <tr style=\"text-align: right;\">\n",
       "      <th></th>\n",
       "      <th>PassengerId</th>\n",
       "      <th>Survived</th>\n",
       "      <th>Pclass</th>\n",
       "      <th>Name</th>\n",
       "      <th>Sex</th>\n",
       "      <th>Age</th>\n",
       "      <th>SibSp</th>\n",
       "      <th>Parch</th>\n",
       "      <th>Ticket</th>\n",
       "      <th>Fare</th>\n",
       "      <th>Cabin</th>\n",
       "      <th>Embarked</th>\n",
       "    </tr>\n",
       "  </thead>\n",
       "  <tbody>\n",
       "    <tr>\n",
       "      <th>0</th>\n",
       "      <td>892</td>\n",
       "      <td>0</td>\n",
       "      <td>3</td>\n",
       "      <td>Kelly, Mr. James</td>\n",
       "      <td>male</td>\n",
       "      <td>34.5</td>\n",
       "      <td>0</td>\n",
       "      <td>0</td>\n",
       "      <td>330911</td>\n",
       "      <td>7.8292</td>\n",
       "      <td>NaN</td>\n",
       "      <td>Q</td>\n",
       "    </tr>\n",
       "    <tr>\n",
       "      <th>1</th>\n",
       "      <td>893</td>\n",
       "      <td>1</td>\n",
       "      <td>3</td>\n",
       "      <td>Wilkes, Mrs. James (Ellen Needs)</td>\n",
       "      <td>female</td>\n",
       "      <td>47.0</td>\n",
       "      <td>1</td>\n",
       "      <td>0</td>\n",
       "      <td>363272</td>\n",
       "      <td>7.0000</td>\n",
       "      <td>NaN</td>\n",
       "      <td>S</td>\n",
       "    </tr>\n",
       "    <tr>\n",
       "      <th>2</th>\n",
       "      <td>894</td>\n",
       "      <td>0</td>\n",
       "      <td>2</td>\n",
       "      <td>Myles, Mr. Thomas Francis</td>\n",
       "      <td>male</td>\n",
       "      <td>62.0</td>\n",
       "      <td>0</td>\n",
       "      <td>0</td>\n",
       "      <td>240276</td>\n",
       "      <td>9.6875</td>\n",
       "      <td>NaN</td>\n",
       "      <td>Q</td>\n",
       "    </tr>\n",
       "    <tr>\n",
       "      <th>3</th>\n",
       "      <td>895</td>\n",
       "      <td>0</td>\n",
       "      <td>3</td>\n",
       "      <td>Wirz, Mr. Albert</td>\n",
       "      <td>male</td>\n",
       "      <td>27.0</td>\n",
       "      <td>0</td>\n",
       "      <td>0</td>\n",
       "      <td>315154</td>\n",
       "      <td>8.6625</td>\n",
       "      <td>NaN</td>\n",
       "      <td>S</td>\n",
       "    </tr>\n",
       "    <tr>\n",
       "      <th>4</th>\n",
       "      <td>896</td>\n",
       "      <td>1</td>\n",
       "      <td>3</td>\n",
       "      <td>Hirvonen, Mrs. Alexander (Helga E Lindqvist)</td>\n",
       "      <td>female</td>\n",
       "      <td>22.0</td>\n",
       "      <td>1</td>\n",
       "      <td>1</td>\n",
       "      <td>3101298</td>\n",
       "      <td>12.2875</td>\n",
       "      <td>NaN</td>\n",
       "      <td>S</td>\n",
       "    </tr>\n",
       "  </tbody>\n",
       "</table>\n",
       "</div>"
      ],
      "text/plain": [
       "   PassengerId  Survived  Pclass  \\\n",
       "0          892         0       3   \n",
       "1          893         1       3   \n",
       "2          894         0       2   \n",
       "3          895         0       3   \n",
       "4          896         1       3   \n",
       "\n",
       "                                           Name     Sex   Age  SibSp  Parch  \\\n",
       "0                              Kelly, Mr. James    male  34.5      0      0   \n",
       "1              Wilkes, Mrs. James (Ellen Needs)  female  47.0      1      0   \n",
       "2                     Myles, Mr. Thomas Francis    male  62.0      0      0   \n",
       "3                              Wirz, Mr. Albert    male  27.0      0      0   \n",
       "4  Hirvonen, Mrs. Alexander (Helga E Lindqvist)  female  22.0      1      1   \n",
       "\n",
       "    Ticket     Fare Cabin Embarked  \n",
       "0   330911   7.8292   NaN        Q  \n",
       "1   363272   7.0000   NaN        S  \n",
       "2   240276   9.6875   NaN        Q  \n",
       "3   315154   8.6625   NaN        S  \n",
       "4  3101298  12.2875   NaN        S  "
      ]
     },
     "execution_count": 2,
     "metadata": {},
     "output_type": "execute_result"
    }
   ],
   "source": [
    "df=pd.read_csv(\"/kaggle/input/test-file/tested.csv\")\n",
    "df.head()"
   ]
  },
  {
   "cell_type": "code",
   "execution_count": 3,
   "id": "1abf1784",
   "metadata": {
    "execution": {
     "iopub.execute_input": "2025-03-24T06:29:25.573705Z",
     "iopub.status.busy": "2025-03-24T06:29:25.573384Z",
     "iopub.status.idle": "2025-03-24T06:29:25.578619Z",
     "shell.execute_reply": "2025-03-24T06:29:25.577653Z"
    },
    "papermill": {
     "duration": 0.01559,
     "end_time": "2025-03-24T06:29:25.580251",
     "exception": false,
     "start_time": "2025-03-24T06:29:25.564661",
     "status": "completed"
    },
    "tags": []
   },
   "outputs": [
    {
     "data": {
      "text/plain": [
       "(418, 12)"
      ]
     },
     "execution_count": 3,
     "metadata": {},
     "output_type": "execute_result"
    }
   ],
   "source": [
    "df.shape"
   ]
  },
  {
   "cell_type": "code",
   "execution_count": 4,
   "id": "334b8821",
   "metadata": {
    "execution": {
     "iopub.execute_input": "2025-03-24T06:29:25.597267Z",
     "iopub.status.busy": "2025-03-24T06:29:25.596909Z",
     "iopub.status.idle": "2025-03-24T06:29:25.628325Z",
     "shell.execute_reply": "2025-03-24T06:29:25.627082Z"
    },
    "papermill": {
     "duration": 0.041743,
     "end_time": "2025-03-24T06:29:25.629932",
     "exception": false,
     "start_time": "2025-03-24T06:29:25.588189",
     "status": "completed"
    },
    "tags": []
   },
   "outputs": [
    {
     "name": "stdout",
     "output_type": "stream",
     "text": [
      "<class 'pandas.core.frame.DataFrame'>\n",
      "RangeIndex: 418 entries, 0 to 417\n",
      "Data columns (total 12 columns):\n",
      " #   Column       Non-Null Count  Dtype  \n",
      "---  ------       --------------  -----  \n",
      " 0   PassengerId  418 non-null    int64  \n",
      " 1   Survived     418 non-null    int64  \n",
      " 2   Pclass       418 non-null    int64  \n",
      " 3   Name         418 non-null    object \n",
      " 4   Sex          418 non-null    object \n",
      " 5   Age          332 non-null    float64\n",
      " 6   SibSp        418 non-null    int64  \n",
      " 7   Parch        418 non-null    int64  \n",
      " 8   Ticket       418 non-null    object \n",
      " 9   Fare         417 non-null    float64\n",
      " 10  Cabin        91 non-null     object \n",
      " 11  Embarked     418 non-null    object \n",
      "dtypes: float64(2), int64(5), object(5)\n",
      "memory usage: 39.3+ KB\n"
     ]
    }
   ],
   "source": [
    "df.info()"
   ]
  },
  {
   "cell_type": "code",
   "execution_count": 5,
   "id": "ea0ad514",
   "metadata": {
    "execution": {
     "iopub.execute_input": "2025-03-24T06:29:25.646967Z",
     "iopub.status.busy": "2025-03-24T06:29:25.646670Z",
     "iopub.status.idle": "2025-03-24T06:29:25.653549Z",
     "shell.execute_reply": "2025-03-24T06:29:25.652548Z"
    },
    "papermill": {
     "duration": 0.017209,
     "end_time": "2025-03-24T06:29:25.655192",
     "exception": false,
     "start_time": "2025-03-24T06:29:25.637983",
     "status": "completed"
    },
    "tags": []
   },
   "outputs": [
    {
     "data": {
      "text/plain": [
       "PassengerId      0\n",
       "Survived         0\n",
       "Pclass           0\n",
       "Name             0\n",
       "Sex              0\n",
       "Age             86\n",
       "SibSp            0\n",
       "Parch            0\n",
       "Ticket           0\n",
       "Fare             1\n",
       "Cabin          327\n",
       "Embarked         0\n",
       "dtype: int64"
      ]
     },
     "execution_count": 5,
     "metadata": {},
     "output_type": "execute_result"
    }
   ],
   "source": [
    "df.isna().sum()"
   ]
  },
  {
   "cell_type": "code",
   "execution_count": 6,
   "id": "53627a82",
   "metadata": {
    "execution": {
     "iopub.execute_input": "2025-03-24T06:29:25.672763Z",
     "iopub.status.busy": "2025-03-24T06:29:25.672456Z",
     "iopub.status.idle": "2025-03-24T06:29:25.680123Z",
     "shell.execute_reply": "2025-03-24T06:29:25.679264Z"
    },
    "papermill": {
     "duration": 0.018157,
     "end_time": "2025-03-24T06:29:25.681561",
     "exception": false,
     "start_time": "2025-03-24T06:29:25.663404",
     "status": "completed"
    },
    "tags": []
   },
   "outputs": [],
   "source": [
    "df.drop(columns=['PassengerId','Name','Ticket','Cabin'],axis=1,inplace=True)"
   ]
  },
  {
   "cell_type": "code",
   "execution_count": 7,
   "id": "1b8ce09d",
   "metadata": {
    "execution": {
     "iopub.execute_input": "2025-03-24T06:29:25.699223Z",
     "iopub.status.busy": "2025-03-24T06:29:25.698862Z",
     "iopub.status.idle": "2025-03-24T06:29:25.723159Z",
     "shell.execute_reply": "2025-03-24T06:29:25.722170Z"
    },
    "papermill": {
     "duration": 0.034891,
     "end_time": "2025-03-24T06:29:25.724736",
     "exception": false,
     "start_time": "2025-03-24T06:29:25.689845",
     "status": "completed"
    },
    "tags": []
   },
   "outputs": [
    {
     "data": {
      "text/html": [
       "<div>\n",
       "<style scoped>\n",
       "    .dataframe tbody tr th:only-of-type {\n",
       "        vertical-align: middle;\n",
       "    }\n",
       "\n",
       "    .dataframe tbody tr th {\n",
       "        vertical-align: top;\n",
       "    }\n",
       "\n",
       "    .dataframe thead th {\n",
       "        text-align: right;\n",
       "    }\n",
       "</style>\n",
       "<table border=\"1\" class=\"dataframe\">\n",
       "  <thead>\n",
       "    <tr style=\"text-align: right;\">\n",
       "      <th></th>\n",
       "      <th>Survived</th>\n",
       "      <th>Pclass</th>\n",
       "      <th>Age</th>\n",
       "      <th>SibSp</th>\n",
       "      <th>Parch</th>\n",
       "      <th>Fare</th>\n",
       "    </tr>\n",
       "  </thead>\n",
       "  <tbody>\n",
       "    <tr>\n",
       "      <th>count</th>\n",
       "      <td>418.000000</td>\n",
       "      <td>418.000000</td>\n",
       "      <td>332.000000</td>\n",
       "      <td>418.000000</td>\n",
       "      <td>418.000000</td>\n",
       "      <td>417.000000</td>\n",
       "    </tr>\n",
       "    <tr>\n",
       "      <th>mean</th>\n",
       "      <td>0.363636</td>\n",
       "      <td>2.265550</td>\n",
       "      <td>30.272590</td>\n",
       "      <td>0.447368</td>\n",
       "      <td>0.392344</td>\n",
       "      <td>35.627188</td>\n",
       "    </tr>\n",
       "    <tr>\n",
       "      <th>std</th>\n",
       "      <td>0.481622</td>\n",
       "      <td>0.841838</td>\n",
       "      <td>14.181209</td>\n",
       "      <td>0.896760</td>\n",
       "      <td>0.981429</td>\n",
       "      <td>55.907576</td>\n",
       "    </tr>\n",
       "    <tr>\n",
       "      <th>min</th>\n",
       "      <td>0.000000</td>\n",
       "      <td>1.000000</td>\n",
       "      <td>0.170000</td>\n",
       "      <td>0.000000</td>\n",
       "      <td>0.000000</td>\n",
       "      <td>0.000000</td>\n",
       "    </tr>\n",
       "    <tr>\n",
       "      <th>25%</th>\n",
       "      <td>0.000000</td>\n",
       "      <td>1.000000</td>\n",
       "      <td>21.000000</td>\n",
       "      <td>0.000000</td>\n",
       "      <td>0.000000</td>\n",
       "      <td>7.895800</td>\n",
       "    </tr>\n",
       "    <tr>\n",
       "      <th>50%</th>\n",
       "      <td>0.000000</td>\n",
       "      <td>3.000000</td>\n",
       "      <td>27.000000</td>\n",
       "      <td>0.000000</td>\n",
       "      <td>0.000000</td>\n",
       "      <td>14.454200</td>\n",
       "    </tr>\n",
       "    <tr>\n",
       "      <th>75%</th>\n",
       "      <td>1.000000</td>\n",
       "      <td>3.000000</td>\n",
       "      <td>39.000000</td>\n",
       "      <td>1.000000</td>\n",
       "      <td>0.000000</td>\n",
       "      <td>31.500000</td>\n",
       "    </tr>\n",
       "    <tr>\n",
       "      <th>max</th>\n",
       "      <td>1.000000</td>\n",
       "      <td>3.000000</td>\n",
       "      <td>76.000000</td>\n",
       "      <td>8.000000</td>\n",
       "      <td>9.000000</td>\n",
       "      <td>512.329200</td>\n",
       "    </tr>\n",
       "  </tbody>\n",
       "</table>\n",
       "</div>"
      ],
      "text/plain": [
       "         Survived      Pclass         Age       SibSp       Parch        Fare\n",
       "count  418.000000  418.000000  332.000000  418.000000  418.000000  417.000000\n",
       "mean     0.363636    2.265550   30.272590    0.447368    0.392344   35.627188\n",
       "std      0.481622    0.841838   14.181209    0.896760    0.981429   55.907576\n",
       "min      0.000000    1.000000    0.170000    0.000000    0.000000    0.000000\n",
       "25%      0.000000    1.000000   21.000000    0.000000    0.000000    7.895800\n",
       "50%      0.000000    3.000000   27.000000    0.000000    0.000000   14.454200\n",
       "75%      1.000000    3.000000   39.000000    1.000000    0.000000   31.500000\n",
       "max      1.000000    3.000000   76.000000    8.000000    9.000000  512.329200"
      ]
     },
     "execution_count": 7,
     "metadata": {},
     "output_type": "execute_result"
    }
   ],
   "source": [
    "df.describe()"
   ]
  },
  {
   "cell_type": "code",
   "execution_count": 8,
   "id": "05b206e8",
   "metadata": {
    "execution": {
     "iopub.execute_input": "2025-03-24T06:29:25.742771Z",
     "iopub.status.busy": "2025-03-24T06:29:25.742459Z",
     "iopub.status.idle": "2025-03-24T06:29:25.749527Z",
     "shell.execute_reply": "2025-03-24T06:29:25.748720Z"
    },
    "papermill": {
     "duration": 0.0178,
     "end_time": "2025-03-24T06:29:25.750968",
     "exception": false,
     "start_time": "2025-03-24T06:29:25.733168",
     "status": "completed"
    },
    "tags": []
   },
   "outputs": [
    {
     "data": {
      "text/plain": [
       "38"
      ]
     },
     "execution_count": 8,
     "metadata": {},
     "output_type": "execute_result"
    }
   ],
   "source": [
    "df.duplicated().sum()"
   ]
  },
  {
   "cell_type": "code",
   "execution_count": 9,
   "id": "37c2efaa",
   "metadata": {
    "execution": {
     "iopub.execute_input": "2025-03-24T06:29:25.769181Z",
     "iopub.status.busy": "2025-03-24T06:29:25.768793Z",
     "iopub.status.idle": "2025-03-24T06:29:25.775986Z",
     "shell.execute_reply": "2025-03-24T06:29:25.775126Z"
    },
    "papermill": {
     "duration": 0.018138,
     "end_time": "2025-03-24T06:29:25.777585",
     "exception": false,
     "start_time": "2025-03-24T06:29:25.759447",
     "status": "completed"
    },
    "tags": []
   },
   "outputs": [],
   "source": [
    "df=df_cleaned = df.drop_duplicates()"
   ]
  },
  {
   "cell_type": "code",
   "execution_count": 10,
   "id": "153c2759",
   "metadata": {
    "execution": {
     "iopub.execute_input": "2025-03-24T06:29:25.795614Z",
     "iopub.status.busy": "2025-03-24T06:29:25.795312Z",
     "iopub.status.idle": "2025-03-24T06:29:25.800422Z",
     "shell.execute_reply": "2025-03-24T06:29:25.799619Z"
    },
    "papermill": {
     "duration": 0.015581,
     "end_time": "2025-03-24T06:29:25.801845",
     "exception": false,
     "start_time": "2025-03-24T06:29:25.786264",
     "status": "completed"
    },
    "tags": []
   },
   "outputs": [
    {
     "data": {
      "text/plain": [
       "(380, 8)"
      ]
     },
     "execution_count": 10,
     "metadata": {},
     "output_type": "execute_result"
    }
   ],
   "source": [
    "df.shape"
   ]
  },
  {
   "cell_type": "code",
   "execution_count": null,
   "id": "c495497d",
   "metadata": {
    "papermill": {
     "duration": 0.008159,
     "end_time": "2025-03-24T06:29:25.818387",
     "exception": false,
     "start_time": "2025-03-24T06:29:25.810228",
     "status": "completed"
    },
    "tags": []
   },
   "outputs": [],
   "source": []
  },
  {
   "cell_type": "markdown",
   "id": "9fdaf05c",
   "metadata": {
    "papermill": {
     "duration": 0.008072,
     "end_time": "2025-03-24T06:29:25.834928",
     "exception": false,
     "start_time": "2025-03-24T06:29:25.826856",
     "status": "completed"
    },
    "tags": []
   },
   "source": [
    "### DATA VISUALISATION & PREPROCESSING\n"
   ]
  },
  {
   "cell_type": "code",
   "execution_count": 11,
   "id": "a1b8585f",
   "metadata": {
    "execution": {
     "iopub.execute_input": "2025-03-24T06:29:25.852673Z",
     "iopub.status.busy": "2025-03-24T06:29:25.852346Z",
     "iopub.status.idle": "2025-03-24T06:29:26.113562Z",
     "shell.execute_reply": "2025-03-24T06:29:26.112648Z"
    },
    "papermill": {
     "duration": 0.272062,
     "end_time": "2025-03-24T06:29:26.115234",
     "exception": false,
     "start_time": "2025-03-24T06:29:25.843172",
     "status": "completed"
    },
    "tags": []
   },
   "outputs": [
    {
     "data": {
      "text/plain": [
       "<Axes: xlabel='Sex', ylabel='count'>"
      ]
     },
     "execution_count": 11,
     "metadata": {},
     "output_type": "execute_result"
    },
    {
     "data": {
      "image/png": "[encoded data removed]",
      "text/plain": [
       "<Figure size 640x480 with 1 Axes>"
      ]
     },
     "metadata": {},
     "output_type": "display_data"
    }
   ],
   "source": [
    "sns.countplot(x='Sex',data=df,hue='Survived')\n",
    "\n"
   ]
  },
  {
   "cell_type": "code",
   "execution_count": 12,
   "id": "c79c3d50",
   "metadata": {
    "execution": {
     "iopub.execute_input": "2025-03-24T06:29:26.134265Z",
     "iopub.status.busy": "2025-03-24T06:29:26.133948Z",
     "iopub.status.idle": "2025-03-24T06:29:27.009526Z",
     "shell.execute_reply": "2025-03-24T06:29:27.008504Z"
    },
    "papermill": {
     "duration": 0.886937,
     "end_time": "2025-03-24T06:29:27.011141",
     "exception": false,
     "start_time": "2025-03-24T06:29:26.124204",
     "status": "completed"
    },
    "tags": []
   },
   "outputs": [
    {
     "data": {
      "text/plain": [
       "<Axes: xlabel='Age', ylabel='count'>"
      ]
     },
     "execution_count": 12,
     "metadata": {},
     "output_type": "execute_result"
    },
    {
     "data": {
      "image/png": "[encoded data removed]",
      "text/plain": [
       "<Figure size 3000x600 with 1 Axes>"
      ]
     },
     "metadata": {},
     "output_type": "display_data"
    }
   ],
   "source": [
    "\n",
    "plt.figure(figsize=(30, 6)) \n",
    "\n",
    "sns.countplot(x='Age',data=df)\n"
   ]
  },
  {
   "cell_type": "code",
   "execution_count": 13,
   "id": "9706c9f9",
   "metadata": {
    "execution": {
     "iopub.execute_input": "2025-03-24T06:29:27.032514Z",
     "iopub.status.busy": "2025-03-24T06:29:27.032167Z",
     "iopub.status.idle": "2025-03-24T06:29:27.221289Z",
     "shell.execute_reply": "2025-03-24T06:29:27.220236Z"
    },
    "papermill": {
     "duration": 0.202181,
     "end_time": "2025-03-24T06:29:27.222862",
     "exception": false,
     "start_time": "2025-03-24T06:29:27.020681",
     "status": "completed"
    },
    "tags": []
   },
   "outputs": [
    {
     "data": {
      "text/plain": [
       "<Axes: xlabel='Pclass', ylabel='count'>"
      ]
     },
     "execution_count": 13,
     "metadata": {},
     "output_type": "execute_result"
    },
    {
     "data": {
      "image/png": "[encoded data removed]",
      "text/plain": [
       "<Figure size 640x480 with 1 Axes>"
      ]
     },
     "metadata": {},
     "output_type": "display_data"
    }
   ],
   "source": [
    "sns.countplot(x='Pclass',data=df,hue='Survived')"
   ]
  },
  {
   "cell_type": "code",
   "execution_count": 14,
   "id": "63b0de2c",
   "metadata": {
    "execution": {
     "iopub.execute_input": "2025-03-24T06:29:27.249092Z",
     "iopub.status.busy": "2025-03-24T06:29:27.248694Z",
     "iopub.status.idle": "2025-03-24T06:29:27.415095Z",
     "shell.execute_reply": "2025-03-24T06:29:27.414154Z"
    },
    "papermill": {
     "duration": 0.179796,
     "end_time": "2025-03-24T06:29:27.416728",
     "exception": false,
     "start_time": "2025-03-24T06:29:27.236932",
     "status": "completed"
    },
    "tags": []
   },
   "outputs": [
    {
     "data": {
      "text/plain": [
       "<Axes: xlabel='SibSp', ylabel='count'>"
      ]
     },
     "execution_count": 14,
     "metadata": {},
     "output_type": "execute_result"
    },
    {
     "data": {
      "image/png": "[encoded data removed]",
      "text/plain": [
       "<Figure size 640x480 with 1 Axes>"
      ]
     },
     "metadata": {},
     "output_type": "display_data"
    }
   ],
   "source": [
    "sns.countplot(x='SibSp',data=df)"
   ]
  },
  {
   "cell_type": "code",
   "execution_count": 15,
   "id": "6afea2ef",
   "metadata": {
    "execution": {
     "iopub.execute_input": "2025-03-24T06:29:27.438725Z",
     "iopub.status.busy": "2025-03-24T06:29:27.438393Z",
     "iopub.status.idle": "2025-03-24T06:29:27.616949Z",
     "shell.execute_reply": "2025-03-24T06:29:27.616129Z"
    },
    "papermill": {
     "duration": 0.191197,
     "end_time": "2025-03-24T06:29:27.618461",
     "exception": false,
     "start_time": "2025-03-24T06:29:27.427264",
     "status": "completed"
    },
    "tags": []
   },
   "outputs": [
    {
     "data": {
      "text/plain": [
       "<Axes: xlabel='Parch', ylabel='count'>"
      ]
     },
     "execution_count": 15,
     "metadata": {},
     "output_type": "execute_result"
    },
    {
     "data": {
      "image/png": "[encoded data removed]",
      "text/plain": [
       "<Figure size 640x480 with 1 Axes>"
      ]
     },
     "metadata": {},
     "output_type": "display_data"
    }
   ],
   "source": [
    "sns.countplot(x='Parch',data=df)"
   ]
  },
  {
   "cell_type": "code",
   "execution_count": null,
   "id": "f5ea9593",
   "metadata": {
    "papermill": {
     "duration": 0.010418,
     "end_time": "2025-03-24T06:29:27.639825",
     "exception": false,
     "start_time": "2025-03-24T06:29:27.629407",
     "status": "completed"
    },
    "tags": []
   },
   "outputs": [],
   "source": []
  },
  {
   "cell_type": "code",
   "execution_count": 16,
   "id": "a464c137",
   "metadata": {
    "execution": {
     "iopub.execute_input": "2025-03-24T06:29:27.662226Z",
     "iopub.status.busy": "2025-03-24T06:29:27.661818Z",
     "iopub.status.idle": "2025-03-24T06:29:27.828775Z",
     "shell.execute_reply": "2025-03-24T06:29:27.827672Z"
    },
    "papermill": {
     "duration": 0.17995,
     "end_time": "2025-03-24T06:29:27.830257",
     "exception": false,
     "start_time": "2025-03-24T06:29:27.650307",
     "status": "completed"
    },
    "tags": []
   },
   "outputs": [
    {
     "data": {
      "image/png": "[encoded data removed]",
      "text/plain": [
       "<Figure size 640x480 with 1 Axes>"
      ]
     },
     "metadata": {},
     "output_type": "display_data"
    }
   ],
   "source": [
    "sns.boxplot(x=df[\"Sex\"], y=df[\"Age\"])\n",
    "plt.xlabel(\"Sex\")\n",
    "plt.ylabel(\"Age\")\n",
    "plt.title(\"Gender Distribution Age Wise\")\n",
    "plt.show()"
   ]
  },
  {
   "cell_type": "code",
   "execution_count": 17,
   "id": "9f5a547c",
   "metadata": {
    "execution": {
     "iopub.execute_input": "2025-03-24T06:29:27.853699Z",
     "iopub.status.busy": "2025-03-24T06:29:27.853376Z",
     "iopub.status.idle": "2025-03-24T06:29:28.019947Z",
     "shell.execute_reply": "2025-03-24T06:29:28.018888Z"
    },
    "papermill": {
     "duration": 0.180353,
     "end_time": "2025-03-24T06:29:28.021796",
     "exception": false,
     "start_time": "2025-03-24T06:29:27.841443",
     "status": "completed"
    },
    "tags": []
   },
   "outputs": [
    {
     "data": {
      "image/png": "[encoded data removed]",
      "text/plain": [
       "<Figure size 640x480 with 1 Axes>"
      ]
     },
     "metadata": {},
     "output_type": "display_data"
    }
   ],
   "source": [
    "sns.boxplot(x=df[\"Pclass\"], y=df[\"Fare\"])\n",
    "plt.xlabel(\"Pclass\")\n",
    "plt.ylabel(\"Fare\")\n",
    "plt.title(\"Fare Distribution In Passenger Class\")\n",
    "plt.show()"
   ]
  },
  {
   "cell_type": "code",
   "execution_count": 18,
   "id": "d2ba5d17",
   "metadata": {
    "execution": {
     "iopub.execute_input": "2025-03-24T06:29:28.047410Z",
     "iopub.status.busy": "2025-03-24T06:29:28.047065Z",
     "iopub.status.idle": "2025-03-24T06:29:28.054685Z",
     "shell.execute_reply": "2025-03-24T06:29:28.053575Z"
    },
    "papermill": {
     "duration": 0.022192,
     "end_time": "2025-03-24T06:29:28.056339",
     "exception": false,
     "start_time": "2025-03-24T06:29:28.034147",
     "status": "completed"
    },
    "tags": []
   },
   "outputs": [
    {
     "data": {
      "text/plain": [
       "Survived     0\n",
       "Pclass       0\n",
       "Sex          0\n",
       "Age         58\n",
       "SibSp        0\n",
       "Parch        0\n",
       "Fare         1\n",
       "Embarked     0\n",
       "dtype: int64"
      ]
     },
     "execution_count": 18,
     "metadata": {},
     "output_type": "execute_result"
    }
   ],
   "source": [
    "df.isna().sum()"
   ]
  },
  {
   "cell_type": "code",
   "execution_count": 19,
   "id": "a095f942",
   "metadata": {
    "execution": {
     "iopub.execute_input": "2025-03-24T06:29:28.081221Z",
     "iopub.status.busy": "2025-03-24T06:29:28.080853Z",
     "iopub.status.idle": "2025-03-24T06:29:28.085944Z",
     "shell.execute_reply": "2025-03-24T06:29:28.085109Z"
    },
    "papermill": {
     "duration": 0.019186,
     "end_time": "2025-03-24T06:29:28.087505",
     "exception": false,
     "start_time": "2025-03-24T06:29:28.068319",
     "status": "completed"
    },
    "tags": []
   },
   "outputs": [],
   "source": [
    "mean_=df['Age'].mean()\n",
    "df['Age'] = df['Age'].fillna(mean_)"
   ]
  },
  {
   "cell_type": "code",
   "execution_count": 20,
   "id": "832a5bb3",
   "metadata": {
    "execution": {
     "iopub.execute_input": "2025-03-24T06:29:28.112601Z",
     "iopub.status.busy": "2025-03-24T06:29:28.112280Z",
     "iopub.status.idle": "2025-03-24T06:29:28.117583Z",
     "shell.execute_reply": "2025-03-24T06:29:28.116705Z"
    },
    "papermill": {
     "duration": 0.019483,
     "end_time": "2025-03-24T06:29:28.119003",
     "exception": false,
     "start_time": "2025-03-24T06:29:28.099520",
     "status": "completed"
    },
    "tags": []
   },
   "outputs": [],
   "source": [
    "df.dropna(inplace=True)"
   ]
  },
  {
   "cell_type": "code",
   "execution_count": 21,
   "id": "34b05244",
   "metadata": {
    "execution": {
     "iopub.execute_input": "2025-03-24T06:29:28.145113Z",
     "iopub.status.busy": "2025-03-24T06:29:28.144720Z",
     "iopub.status.idle": "2025-03-24T06:29:28.152072Z",
     "shell.execute_reply": "2025-03-24T06:29:28.151214Z"
    },
    "papermill": {
     "duration": 0.022204,
     "end_time": "2025-03-24T06:29:28.153493",
     "exception": false,
     "start_time": "2025-03-24T06:29:28.131289",
     "status": "completed"
    },
    "tags": []
   },
   "outputs": [
    {
     "data": {
      "text/plain": [
       "Survived    0\n",
       "Pclass      0\n",
       "Sex         0\n",
       "Age         0\n",
       "SibSp       0\n",
       "Parch       0\n",
       "Fare        0\n",
       "Embarked    0\n",
       "dtype: int64"
      ]
     },
     "execution_count": 21,
     "metadata": {},
     "output_type": "execute_result"
    }
   ],
   "source": [
    "df.isna().sum()"
   ]
  },
  {
   "cell_type": "code",
   "execution_count": 22,
   "id": "56744443",
   "metadata": {
    "execution": {
     "iopub.execute_input": "2025-03-24T06:29:28.178674Z",
     "iopub.status.busy": "2025-03-24T06:29:28.178343Z",
     "iopub.status.idle": "2025-03-24T06:29:28.196910Z",
     "shell.execute_reply": "2025-03-24T06:29:28.195911Z"
    },
    "papermill": {
     "duration": 0.032887,
     "end_time": "2025-03-24T06:29:28.198619",
     "exception": false,
     "start_time": "2025-03-24T06:29:28.165732",
     "status": "completed"
    },
    "tags": []
   },
   "outputs": [
    {
     "data": {
      "text/html": [
       "<div>\n",
       "<style scoped>\n",
       "    .dataframe tbody tr th:only-of-type {\n",
       "        vertical-align: middle;\n",
       "    }\n",
       "\n",
       "    .dataframe tbody tr th {\n",
       "        vertical-align: top;\n",
       "    }\n",
       "\n",
       "    .dataframe thead th {\n",
       "        text-align: right;\n",
       "    }\n",
       "</style>\n",
       "<table border=\"1\" class=\"dataframe\">\n",
       "  <thead>\n",
       "    <tr style=\"text-align: right;\">\n",
       "      <th></th>\n",
       "      <th>Survived</th>\n",
       "      <th>Pclass</th>\n",
       "      <th>Age</th>\n",
       "      <th>SibSp</th>\n",
       "      <th>Parch</th>\n",
       "      <th>Fare</th>\n",
       "      <th>Sex_female</th>\n",
       "      <th>Sex_male</th>\n",
       "      <th>Embarked_C</th>\n",
       "      <th>Embarked_Q</th>\n",
       "      <th>Embarked_S</th>\n",
       "    </tr>\n",
       "  </thead>\n",
       "  <tbody>\n",
       "    <tr>\n",
       "      <th>0</th>\n",
       "      <td>0</td>\n",
       "      <td>3</td>\n",
       "      <td>34.5</td>\n",
       "      <td>0</td>\n",
       "      <td>0</td>\n",
       "      <td>7.8292</td>\n",
       "      <td>False</td>\n",
       "      <td>True</td>\n",
       "      <td>False</td>\n",
       "      <td>True</td>\n",
       "      <td>False</td>\n",
       "    </tr>\n",
       "    <tr>\n",
       "      <th>1</th>\n",
       "      <td>1</td>\n",
       "      <td>3</td>\n",
       "      <td>47.0</td>\n",
       "      <td>1</td>\n",
       "      <td>0</td>\n",
       "      <td>7.0000</td>\n",
       "      <td>True</td>\n",
       "      <td>False</td>\n",
       "      <td>False</td>\n",
       "      <td>False</td>\n",
       "      <td>True</td>\n",
       "    </tr>\n",
       "    <tr>\n",
       "      <th>2</th>\n",
       "      <td>0</td>\n",
       "      <td>2</td>\n",
       "      <td>62.0</td>\n",
       "      <td>0</td>\n",
       "      <td>0</td>\n",
       "      <td>9.6875</td>\n",
       "      <td>False</td>\n",
       "      <td>True</td>\n",
       "      <td>False</td>\n",
       "      <td>True</td>\n",
       "      <td>False</td>\n",
       "    </tr>\n",
       "    <tr>\n",
       "      <th>3</th>\n",
       "      <td>0</td>\n",
       "      <td>3</td>\n",
       "      <td>27.0</td>\n",
       "      <td>0</td>\n",
       "      <td>0</td>\n",
       "      <td>8.6625</td>\n",
       "      <td>False</td>\n",
       "      <td>True</td>\n",
       "      <td>False</td>\n",
       "      <td>False</td>\n",
       "      <td>True</td>\n",
       "    </tr>\n",
       "    <tr>\n",
       "      <th>4</th>\n",
       "      <td>1</td>\n",
       "      <td>3</td>\n",
       "      <td>22.0</td>\n",
       "      <td>1</td>\n",
       "      <td>1</td>\n",
       "      <td>12.2875</td>\n",
       "      <td>True</td>\n",
       "      <td>False</td>\n",
       "      <td>False</td>\n",
       "      <td>False</td>\n",
       "      <td>True</td>\n",
       "    </tr>\n",
       "  </tbody>\n",
       "</table>\n",
       "</div>"
      ],
      "text/plain": [
       "   Survived  Pclass   Age  SibSp  Parch     Fare  Sex_female  Sex_male  \\\n",
       "0         0       3  34.5      0      0   7.8292       False      True   \n",
       "1         1       3  47.0      1      0   7.0000        True     False   \n",
       "2         0       2  62.0      0      0   9.6875       False      True   \n",
       "3         0       3  27.0      0      0   8.6625       False      True   \n",
       "4         1       3  22.0      1      1  12.2875        True     False   \n",
       "\n",
       "   Embarked_C  Embarked_Q  Embarked_S  \n",
       "0       False        True       False  \n",
       "1       False       False        True  \n",
       "2       False        True       False  \n",
       "3       False       False        True  \n",
       "4       False       False        True  "
      ]
     },
     "execution_count": 22,
     "metadata": {},
     "output_type": "execute_result"
    }
   ],
   "source": [
    "new_df=pd.get_dummies(data=df,columns=['Sex','Embarked'])\n",
    "new_df.head()"
   ]
  },
  {
   "cell_type": "code",
   "execution_count": 23,
   "id": "e993135d",
   "metadata": {
    "execution": {
     "iopub.execute_input": "2025-03-24T06:29:28.224255Z",
     "iopub.status.busy": "2025-03-24T06:29:28.223887Z",
     "iopub.status.idle": "2025-03-24T06:29:28.229344Z",
     "shell.execute_reply": "2025-03-24T06:29:28.228482Z"
    },
    "papermill": {
     "duration": 0.01985,
     "end_time": "2025-03-24T06:29:28.230784",
     "exception": false,
     "start_time": "2025-03-24T06:29:28.210934",
     "status": "completed"
    },
    "tags": []
   },
   "outputs": [
    {
     "data": {
      "text/plain": [
       "(379, 11)"
      ]
     },
     "execution_count": 23,
     "metadata": {},
     "output_type": "execute_result"
    }
   ],
   "source": [
    "new_df.shape"
   ]
  },
  {
   "cell_type": "code",
   "execution_count": 24,
   "id": "cd4ee87f",
   "metadata": {
    "execution": {
     "iopub.execute_input": "2025-03-24T06:29:28.256560Z",
     "iopub.status.busy": "2025-03-24T06:29:28.256236Z",
     "iopub.status.idle": "2025-03-24T06:29:28.260355Z",
     "shell.execute_reply": "2025-03-24T06:29:28.259451Z"
    },
    "papermill": {
     "duration": 0.018617,
     "end_time": "2025-03-24T06:29:28.261756",
     "exception": false,
     "start_time": "2025-03-24T06:29:28.243139",
     "status": "completed"
    },
    "tags": []
   },
   "outputs": [],
   "source": [
    "target=new_df['Survived']"
   ]
  },
  {
   "cell_type": "code",
   "execution_count": 25,
   "id": "1947749e",
   "metadata": {
    "execution": {
     "iopub.execute_input": "2025-03-24T06:29:28.287365Z",
     "iopub.status.busy": "2025-03-24T06:29:28.286983Z",
     "iopub.status.idle": "2025-03-24T06:29:28.291752Z",
     "shell.execute_reply": "2025-03-24T06:29:28.290874Z"
    },
    "papermill": {
     "duration": 0.019541,
     "end_time": "2025-03-24T06:29:28.293413",
     "exception": false,
     "start_time": "2025-03-24T06:29:28.273872",
     "status": "completed"
    },
    "tags": []
   },
   "outputs": [],
   "source": [
    "X=new_df.drop(columns='Survived',axis=1)"
   ]
  },
  {
   "cell_type": "code",
   "execution_count": 26,
   "id": "8005b260",
   "metadata": {
    "execution": {
     "iopub.execute_input": "2025-03-24T06:29:28.318907Z",
     "iopub.status.busy": "2025-03-24T06:29:28.318564Z",
     "iopub.status.idle": "2025-03-24T06:29:28.327369Z",
     "shell.execute_reply": "2025-03-24T06:29:28.326466Z"
    },
    "papermill": {
     "duration": 0.023291,
     "end_time": "2025-03-24T06:29:28.328887",
     "exception": false,
     "start_time": "2025-03-24T06:29:28.305596",
     "status": "completed"
    },
    "tags": []
   },
   "outputs": [],
   "source": [
    "scaler = StandardScaler()\n",
    "X = scaler.fit_transform(X)"
   ]
  },
  {
   "cell_type": "code",
   "execution_count": 27,
   "id": "fff002d4",
   "metadata": {
    "execution": {
     "iopub.execute_input": "2025-03-24T06:29:28.358463Z",
     "iopub.status.busy": "2025-03-24T06:29:28.358131Z",
     "iopub.status.idle": "2025-03-24T06:29:28.364130Z",
     "shell.execute_reply": "2025-03-24T06:29:28.363131Z"
    },
    "papermill": {
     "duration": 0.023394,
     "end_time": "2025-03-24T06:29:28.366293",
     "exception": false,
     "start_time": "2025-03-24T06:29:28.342899",
     "status": "completed"
    },
    "tags": []
   },
   "outputs": [],
   "source": [
    "x_train,x_test,y_train,y_test=train_test_split(X,target,test_size=0.2,random_state=42)"
   ]
  },
  {
   "cell_type": "code",
   "execution_count": null,
   "id": "9d3504e4",
   "metadata": {
    "papermill": {
     "duration": 0.012672,
     "end_time": "2025-03-24T06:29:28.397023",
     "exception": false,
     "start_time": "2025-03-24T06:29:28.384351",
     "status": "completed"
    },
    "tags": []
   },
   "outputs": [],
   "source": []
  },
  {
   "cell_type": "markdown",
   "id": "bb61d243",
   "metadata": {
    "papermill": {
     "duration": 0.013948,
     "end_time": "2025-03-24T06:29:28.425132",
     "exception": false,
     "start_time": "2025-03-24T06:29:28.411184",
     "status": "completed"
    },
    "tags": []
   },
   "source": [
    "## DataLoader and Model "
   ]
  },
  {
   "cell_type": "code",
   "execution_count": 28,
   "id": "ca408477",
   "metadata": {
    "execution": {
     "iopub.execute_input": "2025-03-24T06:29:28.451104Z",
     "iopub.status.busy": "2025-03-24T06:29:28.450541Z",
     "iopub.status.idle": "2025-03-24T06:29:32.692656Z",
     "shell.execute_reply": "2025-03-24T06:29:32.691536Z"
    },
    "papermill": {
     "duration": 4.257526,
     "end_time": "2025-03-24T06:29:32.694662",
     "exception": false,
     "start_time": "2025-03-24T06:29:28.437136",
     "status": "completed"
    },
    "tags": []
   },
   "outputs": [],
   "source": [
    "import torch\n",
    "import torch.nn as nn\n",
    "from torch.utils.data import Dataset,DataLoader\n",
    "import torch.optim as optim"
   ]
  },
  {
   "cell_type": "code",
   "execution_count": 29,
   "id": "30b71d68",
   "metadata": {
    "execution": {
     "iopub.execute_input": "2025-03-24T06:29:32.719867Z",
     "iopub.status.busy": "2025-03-24T06:29:32.719295Z",
     "iopub.status.idle": "2025-03-24T06:29:32.724973Z",
     "shell.execute_reply": "2025-03-24T06:29:32.724019Z"
    },
    "papermill": {
     "duration": 0.019706,
     "end_time": "2025-03-24T06:29:32.726618",
     "exception": false,
     "start_time": "2025-03-24T06:29:32.706912",
     "status": "completed"
    },
    "tags": []
   },
   "outputs": [],
   "source": [
    "\n",
    "class TitanicDataset(torch.utils.data.Dataset):\n",
    "    def __init__(self, X, y, transform=None):\n",
    "        self.X = torch.tensor(X, dtype=torch.float32)\n",
    "        self.y = torch.tensor(y.values, dtype=torch.long) \n",
    "        self.transform = transform\n",
    "\n",
    "    def __len__(self):\n",
    "        return len(self.X)\n",
    "\n",
    "    def __getitem__(self, idx):\n",
    "        return self.X[idx], self.y[idx]\n"
   ]
  },
  {
   "cell_type": "code",
   "execution_count": 30,
   "id": "47a9ac8b",
   "metadata": {
    "execution": {
     "iopub.execute_input": "2025-03-24T06:29:32.751121Z",
     "iopub.status.busy": "2025-03-24T06:29:32.750770Z",
     "iopub.status.idle": "2025-03-24T06:29:32.794586Z",
     "shell.execute_reply": "2025-03-24T06:29:32.793720Z"
    },
    "papermill": {
     "duration": 0.05776,
     "end_time": "2025-03-24T06:29:32.796300",
     "exception": false,
     "start_time": "2025-03-24T06:29:32.738540",
     "status": "completed"
    },
    "tags": []
   },
   "outputs": [],
   "source": [
    "train_loader=TitanicDataset(x_train,y_train)\n",
    "train_loader=TitanicDataset(x_test,y_test)"
   ]
  },
  {
   "cell_type": "code",
   "execution_count": 31,
   "id": "af5b08ec",
   "metadata": {
    "execution": {
     "iopub.execute_input": "2025-03-24T06:29:32.822303Z",
     "iopub.status.busy": "2025-03-24T06:29:32.821907Z",
     "iopub.status.idle": "2025-03-24T06:29:32.828316Z",
     "shell.execute_reply": "2025-03-24T06:29:32.827341Z"
    },
    "papermill": {
     "duration": 0.02101,
     "end_time": "2025-03-24T06:29:32.829691",
     "exception": false,
     "start_time": "2025-03-24T06:29:32.808681",
     "status": "completed"
    },
    "tags": []
   },
   "outputs": [],
   "source": [
    "batch_size=32\n",
    "trainData=DataLoader(train_loader, batch_size=batch_size, shuffle=True)\n",
    "testData=DataLoader(train_loader, batch_size=batch_size, shuffle=True)"
   ]
  },
  {
   "cell_type": "code",
   "execution_count": 32,
   "id": "2088bd1d",
   "metadata": {
    "execution": {
     "iopub.execute_input": "2025-03-24T06:29:32.854917Z",
     "iopub.status.busy": "2025-03-24T06:29:32.854605Z",
     "iopub.status.idle": "2025-03-24T06:29:32.859978Z",
     "shell.execute_reply": "2025-03-24T06:29:32.859042Z"
    },
    "papermill": {
     "duration": 0.019943,
     "end_time": "2025-03-24T06:29:32.861544",
     "exception": false,
     "start_time": "2025-03-24T06:29:32.841601",
     "status": "completed"
    },
    "tags": []
   },
   "outputs": [],
   "source": [
    "class MYNN(nn.Module):\n",
    "    def __init__(self, feature):\n",
    "        super().__init__()\n",
    "        self.model = nn.Sequential(\n",
    "            nn.Linear(feature, 128),\n",
    "            nn.ReLU(),\n",
    "            nn.Dropout(0.3),\n",
    "            nn.Linear(128, 64),\n",
    "            nn.ReLU(),\n",
    "            nn.Dropout(0.1),\n",
    "            nn.Linear(64, 10),\n",
    "            nn.ReLU(),\n",
    "            nn.Linear(10, 2),\n",
    "        )\n",
    "    \n",
    "    def forward(self, x):\n",
    "        return self.model(x)"
   ]
  },
  {
   "cell_type": "code",
   "execution_count": 33,
   "id": "ababa2ec",
   "metadata": {
    "execution": {
     "iopub.execute_input": "2025-03-24T06:29:32.886793Z",
     "iopub.status.busy": "2025-03-24T06:29:32.886476Z",
     "iopub.status.idle": "2025-03-24T06:29:32.890415Z",
     "shell.execute_reply": "2025-03-24T06:29:32.889511Z"
    },
    "papermill": {
     "duration": 0.018151,
     "end_time": "2025-03-24T06:29:32.891898",
     "exception": false,
     "start_time": "2025-03-24T06:29:32.873747",
     "status": "completed"
    },
    "tags": []
   },
   "outputs": [],
   "source": [
    "epochs = 25\n",
    "learning_rate = 0.1"
   ]
  },
  {
   "cell_type": "code",
   "execution_count": 34,
   "id": "82cf396c",
   "metadata": {
    "execution": {
     "iopub.execute_input": "2025-03-24T06:29:32.917514Z",
     "iopub.status.busy": "2025-03-24T06:29:32.917206Z",
     "iopub.status.idle": "2025-03-24T06:29:37.313370Z",
     "shell.execute_reply": "2025-03-24T06:29:37.312552Z"
    },
    "papermill": {
     "duration": 4.410906,
     "end_time": "2025-03-24T06:29:37.315264",
     "exception": false,
     "start_time": "2025-03-24T06:29:32.904358",
     "status": "completed"
    },
    "tags": []
   },
   "outputs": [],
   "source": [
    "model=MYNN(x_train.shape[1])\n",
    "losses=nn.CrossEntropyLoss()\n",
    "optimizer=optim.SGD(model.parameters(),lr=learning_rate)"
   ]
  },
  {
   "cell_type": "code",
   "execution_count": 35,
   "id": "594c3f21",
   "metadata": {
    "execution": {
     "iopub.execute_input": "2025-03-24T06:29:37.340482Z",
     "iopub.status.busy": "2025-03-24T06:29:37.339931Z",
     "iopub.status.idle": "2025-03-24T06:29:37.346649Z",
     "shell.execute_reply": "2025-03-24T06:29:37.345839Z"
    },
    "papermill": {
     "duration": 0.020579,
     "end_time": "2025-03-24T06:29:37.348001",
     "exception": false,
     "start_time": "2025-03-24T06:29:37.327422",
     "status": "completed"
    },
    "tags": []
   },
   "outputs": [],
   "source": [
    "# Training function\n",
    "def train_model(model, train_loader, criterion, optimizer, epochs=10):\n",
    "    model.train()\n",
    "    for epoch in range(epochs):\n",
    "        total_loss = 0\n",
    "        correct = 0\n",
    "        total = 0\n",
    "        all_preds = []\n",
    "        all_labels = []\n",
    "        for batch in train_loader:\n",
    "            X_batch, y_batch = batch\n",
    "            optimizer.zero_grad()\n",
    "            outputs = model(X_batch)\n",
    "            loss = criterion(outputs, y_batch)\n",
    "            loss.backward()\n",
    "            optimizer.step()\n",
    "            total_loss += loss.item()\n",
    "            _, predicted = torch.max(outputs, 1)\n",
    "            correct += (predicted == y_batch).sum().item()\n",
    "            total += y_batch.size(0)\n",
    "            all_preds.extend(predicted.cpu().numpy())\n",
    "            all_labels.extend(y_batch.cpu().numpy())\n",
    "        accuracy = 100 * correct / total\n",
    "        precision = precision_score(all_labels, all_preds, average='macro')\n",
    "        print(f\"Epoch {epoch+1}/{epochs}, Loss: {total_loss/len(train_loader):.4f}, Accuracy: {accuracy:.2f}%, Precision: {precision:.4f}\")"
   ]
  },
  {
   "cell_type": "code",
   "execution_count": 36,
   "id": "9c1ff824",
   "metadata": {
    "execution": {
     "iopub.execute_input": "2025-03-24T06:29:37.372891Z",
     "iopub.status.busy": "2025-03-24T06:29:37.372586Z",
     "iopub.status.idle": "2025-03-24T06:29:37.376490Z",
     "shell.execute_reply": "2025-03-24T06:29:37.375637Z"
    },
    "papermill": {
     "duration": 0.017767,
     "end_time": "2025-03-24T06:29:37.377834",
     "exception": false,
     "start_time": "2025-03-24T06:29:37.360067",
     "status": "completed"
    },
    "tags": []
   },
   "outputs": [],
   "source": [
    "import warnings\n",
    "warnings.filterwarnings(\"ignore\")\n"
   ]
  },
  {
   "cell_type": "code",
   "execution_count": 37,
   "id": "773fd172",
   "metadata": {
    "execution": {
     "iopub.execute_input": "2025-03-24T06:29:37.404259Z",
     "iopub.status.busy": "2025-03-24T06:29:37.403912Z",
     "iopub.status.idle": "2025-03-24T06:29:37.695103Z",
     "shell.execute_reply": "2025-03-24T06:29:37.693953Z"
    },
    "papermill": {
     "duration": 0.307362,
     "end_time": "2025-03-24T06:29:37.697119",
     "exception": false,
     "start_time": "2025-03-24T06:29:37.389757",
     "status": "completed"
    },
    "tags": []
   },
   "outputs": [
    {
     "name": "stdout",
     "output_type": "stream",
     "text": [
      "Epoch 1/25, Loss: 0.6902, Accuracy: 59.21%, Precision: 0.2961\n",
      "Epoch 2/25, Loss: 0.6633, Accuracy: 59.21%, Precision: 0.2961\n",
      "Epoch 3/25, Loss: 0.6881, Accuracy: 59.21%, Precision: 0.2961\n",
      "Epoch 4/25, Loss: 0.6330, Accuracy: 59.21%, Precision: 0.2961\n",
      "Epoch 5/25, Loss: 0.6323, Accuracy: 59.21%, Precision: 0.2961\n",
      "Epoch 6/25, Loss: 0.6238, Accuracy: 59.21%, Precision: 0.2961\n",
      "Epoch 7/25, Loss: 0.5996, Accuracy: 61.84%, Precision: 0.8041\n",
      "Epoch 8/25, Loss: 0.5594, Accuracy: 65.79%, Precision: 0.8169\n",
      "Epoch 9/25, Loss: 0.5225, Accuracy: 77.63%, Precision: 0.8629\n",
      "Epoch 10/25, Loss: 0.4828, Accuracy: 80.26%, Precision: 0.8750\n",
      "Epoch 11/25, Loss: 0.4406, Accuracy: 90.79%, Precision: 0.9327\n",
      "Epoch 12/25, Loss: 0.3410, Accuracy: 97.37%, Precision: 0.9787\n",
      "Epoch 13/25, Loss: 0.2841, Accuracy: 97.37%, Precision: 0.9787\n",
      "Epoch 14/25, Loss: 0.1997, Accuracy: 100.00%, Precision: 1.0000\n",
      "Epoch 15/25, Loss: 0.1641, Accuracy: 100.00%, Precision: 1.0000\n",
      "Epoch 16/25, Loss: 0.1163, Accuracy: 100.00%, Precision: 1.0000\n",
      "Epoch 17/25, Loss: 0.0913, Accuracy: 100.00%, Precision: 1.0000\n",
      "Epoch 18/25, Loss: 0.0711, Accuracy: 98.68%, Precision: 0.9891\n",
      "Epoch 19/25, Loss: 0.0591, Accuracy: 100.00%, Precision: 1.0000\n",
      "Epoch 20/25, Loss: 0.0389, Accuracy: 100.00%, Precision: 1.0000\n",
      "Epoch 21/25, Loss: 0.0347, Accuracy: 100.00%, Precision: 1.0000\n",
      "Epoch 22/25, Loss: 0.0242, Accuracy: 100.00%, Precision: 1.0000\n",
      "Epoch 23/25, Loss: 0.0236, Accuracy: 100.00%, Precision: 1.0000\n",
      "Epoch 24/25, Loss: 0.0223, Accuracy: 100.00%, Precision: 1.0000\n",
      "Epoch 25/25, Loss: 0.0184, Accuracy: 100.00%, Precision: 1.0000\n"
     ]
    }
   ],
   "source": [
    "train_model(model,trainData,losses,optimizer,epochs)"
   ]
  },
  {
   "cell_type": "code",
   "execution_count": 38,
   "id": "1b4bc344",
   "metadata": {
    "execution": {
     "iopub.execute_input": "2025-03-24T06:29:37.723724Z",
     "iopub.status.busy": "2025-03-24T06:29:37.723390Z",
     "iopub.status.idle": "2025-03-24T06:29:37.729579Z",
     "shell.execute_reply": "2025-03-24T06:29:37.728543Z"
    },
    "papermill": {
     "duration": 0.02147,
     "end_time": "2025-03-24T06:29:37.731267",
     "exception": false,
     "start_time": "2025-03-24T06:29:37.709797",
     "status": "completed"
    },
    "tags": []
   },
   "outputs": [],
   "source": [
    "\n",
    "# Evaluation function\n",
    "def evaluate_model(model, test_loader, criterion):\n",
    "    model.eval()\n",
    "    total_loss = 0\n",
    "    correct = 0\n",
    "    total = 0\n",
    "    all_preds = []\n",
    "    all_labels = []\n",
    "    with torch.no_grad():\n",
    "        for batch in test_loader:\n",
    "            X_batch, y_batch = batch\n",
    "            outputs = model(X_batch)\n",
    "            loss = criterion(outputs, y_batch)\n",
    "            total_loss += loss.item()\n",
    "            _, predicted = torch.max(outputs, 1)\n",
    "            correct += (predicted == y_batch).sum().item()\n",
    "            total += y_batch.size(0)\n",
    "            all_preds.extend(predicted.cpu().numpy())\n",
    "            all_labels.extend(y_batch.cpu().numpy())\n",
    "    precision = precision_score(all_labels, all_preds, average='macro')\n",
    "    print(f\"Test Loss: {total_loss/len(test_loader):.4f}, Accuracy: {100 * correct / total:.2f}%, Precision: {precision:.4f}\")\n"
   ]
  },
  {
   "cell_type": "code",
   "execution_count": 39,
   "id": "ae340298",
   "metadata": {
    "execution": {
     "iopub.execute_input": "2025-03-24T06:29:37.756622Z",
     "iopub.status.busy": "2025-03-24T06:29:37.756310Z",
     "iopub.status.idle": "2025-03-24T06:29:37.766086Z",
     "shell.execute_reply": "2025-03-24T06:29:37.764773Z"
    },
    "papermill": {
     "duration": 0.024242,
     "end_time": "2025-03-24T06:29:37.767694",
     "exception": false,
     "start_time": "2025-03-24T06:29:37.743452",
     "status": "completed"
    },
    "tags": []
   },
   "outputs": [
    {
     "name": "stdout",
     "output_type": "stream",
     "text": [
      "Test Loss: 0.0118, Accuracy: 100.00%, Precision: 1.0000\n"
     ]
    }
   ],
   "source": [
    "evaluate_model(model,testData,losses)"
   ]
  },
  {
   "cell_type": "code",
   "execution_count": null,
   "id": "ca683840",
   "metadata": {
    "papermill": {
     "duration": 0.01163,
     "end_time": "2025-03-24T06:29:37.791569",
     "exception": false,
     "start_time": "2025-03-24T06:29:37.779939",
     "status": "completed"
    },
    "tags": []
   },
   "outputs": [],
   "source": []
  }
 ],
 "metadata": {
  "kaggle": {
   "accelerator": "none",
   "dataSources": [
    {
     "datasetId": 826163,
     "sourceId": 2879186,
     "sourceType": "datasetVersion"
    }
   ],
   "dockerImageVersionId": 30918,
   "isGpuEnabled": false,
   "isInternetEnabled": true,
   "language": "python",
   "sourceType": "notebook"
  },
  "kernelspec": {
   "display_name": "Python 3",
   "language": "python",
   "name": "python3"
  },
  "language_info": {
   "codemirror_mode": {
    "name": "ipython",
    "version": 3
   },
   "file_extension": ".py",
   "mimetype": "text/x-python",
   "name": "python",
   "nbconvert_exporter": "python",
   "pygments_lexer": "ipython3",
   "version": "3.10.12"
  },
  "papermill": {
   "default_parameters": {},
   "duration": 20.578797,
   "end_time": "2025-03-24T06:29:40.499262",
   "environment_variables": {},
   "exception": null,
   "input_path": "__notebook__.ipynb",
   "output_path": "__notebook__.ipynb",
   "parameters": {},
   "start_time": "2025-03-24T06:29:19.920465",
   "version": "2.6.0"
  }
 },
 "nbformat": 4,
 "nbformat_minor": 5
}
