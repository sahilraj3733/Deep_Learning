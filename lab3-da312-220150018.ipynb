{
 "cells": [
  {
   "cell_type": "code",
   "execution_count": 1,
   "id": "354cb116",
   "metadata": {
    "_cell_guid": "b1076dfc-b9ad-4769-8c92-a6c4dae69d19",
    "_uuid": "8f2839f25d086af736a60e9eeb907d3b93b6e0e5",
    "execution": {
     "iopub.execute_input": "2025-02-19T15:45:10.036206Z",
     "iopub.status.busy": "2025-02-19T15:45:10.035718Z",
     "iopub.status.idle": "2025-02-19T15:45:11.021708Z",
     "shell.execute_reply": "2025-02-19T15:45:11.020422Z"
    },
    "papermill": {
     "duration": 0.998666,
     "end_time": "2025-02-19T15:45:11.023993",
     "exception": false,
     "start_time": "2025-02-19T15:45:10.025327",
     "status": "completed"
    },
    "tags": []
   },
   "outputs": [],
   "source": [
    "# This Python 3 environment comes with many helpful analytics libraries installed\n",
    "# It is defined by the kaggle/python Docker image: https://github.com/kaggle/docker-python\n",
    "# For example, here's several helpful packages to load\n",
    "\n",
    "import numpy as np # linear algebra\n",
    "import pandas as pd # data processing, CSV file I/O (e.g. pd.read_csv)\n",
    "\n",
    "# Input data files are available in the read-only \"../input/\" directory\n",
    "# For example, running this (by clicking run or pressing Shift+Enter) will list all files under the input directory\n",
    "\n",
    "import os\n",
    "for dirname, _, filenames in os.walk('/kaggle/input'):\n",
    "    for filename in filenames:\n",
    "        print(os.path.join(dirname, filename))\n",
    "\n",
    "# You can write up to 20GB to the current directory (/kaggle/working/) that gets preserved as output when you create a version using \"Save & Run All\" \n",
    "# You can also write temporary files to /kaggle/temp/, but they won't be saved outside of the current session"
   ]
  },
  {
   "cell_type": "code",
   "execution_count": 2,
   "id": "46895892",
   "metadata": {
    "execution": {
     "iopub.execute_input": "2025-02-19T15:45:11.043824Z",
     "iopub.status.busy": "2025-02-19T15:45:11.043326Z",
     "iopub.status.idle": "2025-02-19T15:45:17.956791Z",
     "shell.execute_reply": "2025-02-19T15:45:17.955629Z"
    },
    "papermill": {
     "duration": 6.925752,
     "end_time": "2025-02-19T15:45:17.958817",
     "exception": false,
     "start_time": "2025-02-19T15:45:11.033065",
     "status": "completed"
    },
    "tags": []
   },
   "outputs": [],
   "source": [
    "import pandas as pd\n",
    "import torch\n",
    "import torch.nn as nn\n",
    "import torch.optim as optim\n",
    "from sklearn.model_selection import train_test_split\n",
    "from sklearn.preprocessing import StandardScaler\n",
    "from torch.utils.data import DataLoader, TensorDataset\n",
    "\n",
    "# Load and preprocess Heart Disease dataset\n",
    "url = \"https://archive.ics.uci.edu/ml/machine-learning-databases/heart-disease/processed.cleveland.data\"\n",
    "columns = ['age', 'sex', 'cp', 'trestbps', 'chol', 'fbs', 'restecg', 'thalach', 'exang', 'oldpeak', 'slope', 'ca', 'thal', 'target']\n",
    "data = pd.read_csv(url, header=None, names=columns, na_values=\"?\")\n",
    "data = data.dropna()  # Remove rows with missing values\n",
    "data['target'] = (data['target'] > 0).astype(int)  # Convert to binary classification\n",
    "\n",
    "X = data.drop(columns=['target']).values\n",
    "y = data['target'].values\n",
    "\n",
    "scaler = StandardScaler()\n",
    "X = scaler.fit_transform(X)\n",
    "\n",
    "X_train, X_test, y_train, y_test = train_test_split(X, y, test_size=0.2, random_state=42)\n",
    "\n"
   ]
  },
  {
   "cell_type": "code",
   "execution_count": 3,
   "id": "dbb53719",
   "metadata": {
    "execution": {
     "iopub.execute_input": "2025-02-19T15:45:17.976708Z",
     "iopub.status.busy": "2025-02-19T15:45:17.976341Z",
     "iopub.status.idle": "2025-02-19T15:45:18.020337Z",
     "shell.execute_reply": "2025-02-19T15:45:18.019363Z"
    },
    "papermill": {
     "duration": 0.054954,
     "end_time": "2025-02-19T15:45:18.022167",
     "exception": false,
     "start_time": "2025-02-19T15:45:17.967213",
     "status": "completed"
    },
    "tags": []
   },
   "outputs": [],
   "source": [
    "# Convert data to PyTorch tensors\n",
    "X_train_tensor = torch.tensor(X_train, dtype=torch.float32)\n",
    "y_train_tensor = torch.tensor(y_train, dtype=torch.float32).unsqueeze(1)\n",
    "X_test_tensor = torch.tensor(X_test, dtype=torch.float32)\n",
    "y_test_tensor = torch.tensor(y_test, dtype=torch.float32).unsqueeze(1)\n",
    "\n",
    "# Create DataLoader for training\n",
    "train_dataset = TensorDataset(X_train_tensor, y_train_tensor)\n",
    "train_loader = DataLoader(train_dataset, batch_size=8, shuffle=True)\n",
    "\n"
   ]
  },
  {
   "cell_type": "code",
   "execution_count": 4,
   "id": "ffd09df4",
   "metadata": {
    "execution": {
     "iopub.execute_input": "2025-02-19T15:45:18.040681Z",
     "iopub.status.busy": "2025-02-19T15:45:18.040337Z",
     "iopub.status.idle": "2025-02-19T15:45:18.045749Z",
     "shell.execute_reply": "2025-02-19T15:45:18.044634Z"
    },
    "papermill": {
     "duration": 0.016482,
     "end_time": "2025-02-19T15:45:18.047537",
     "exception": false,
     "start_time": "2025-02-19T15:45:18.031055",
     "status": "completed"
    },
    "tags": []
   },
   "outputs": [],
   "source": [
    "# Define MLP model in PyTorch\n",
    "class MLPModel(nn.Module):\n",
    "    def __init__(self, input_dim):\n",
    "        super(MLPModel, self).__init__()\n",
    "        self.model = nn.Sequential(\n",
    "            nn.Linear(input_dim, 64),\n",
    "            nn.ReLU(),\n",
    "            nn.Linear(64, 32),\n",
    "            nn.ReLU(),\n",
    "            nn.Linear(32, 1),\n",
    "            nn.Sigmoid()\n",
    "        )\n",
    "\n",
    "    def forward(self, x):\n",
    "        return self.model(x)\n",
    "\n"
   ]
  },
  {
   "cell_type": "code",
   "execution_count": 5,
   "id": "741ae78c",
   "metadata": {
    "execution": {
     "iopub.execute_input": "2025-02-19T15:45:18.065379Z",
     "iopub.status.busy": "2025-02-19T15:45:18.064923Z",
     "iopub.status.idle": "2025-02-19T15:45:23.803938Z",
     "shell.execute_reply": "2025-02-19T15:45:23.802433Z"
    },
    "papermill": {
     "duration": 5.750214,
     "end_time": "2025-02-19T15:45:23.806030",
     "exception": false,
     "start_time": "2025-02-19T15:45:18.055816",
     "status": "completed"
    },
    "tags": []
   },
   "outputs": [
    {
     "name": "stdout",
     "output_type": "stream",
     "text": [
      "Epoch 1/10, Loss: 0.5136, Accuracy: 0.7595\n",
      "Epoch 2/10, Loss: 0.3715, Accuracy: 0.8439\n",
      "Epoch 3/10, Loss: 0.3316, Accuracy: 0.8734\n",
      "Epoch 4/10, Loss: 0.3020, Accuracy: 0.8776\n",
      "Epoch 5/10, Loss: 0.2919, Accuracy: 0.8608\n",
      "Epoch 6/10, Loss: 0.2579, Accuracy: 0.8903\n",
      "Epoch 7/10, Loss: 0.2323, Accuracy: 0.8945\n",
      "Epoch 8/10, Loss: 0.2040, Accuracy: 0.9198\n",
      "Epoch 9/10, Loss: 0.1776, Accuracy: 0.9156\n",
      "Epoch 10/10, Loss: 0.1532, Accuracy: 0.9367\n"
     ]
    }
   ],
   "source": [
    "# Initialize model, loss function, and optimizer\n",
    "input_dim = X.shape[1]\n",
    "model = MLPModel(input_dim)\n",
    "criterion = nn.BCELoss()  # Binary Cross-Entropy Loss\n",
    "optimizer = optim.Adam(model.parameters(), lr=0.01)\n",
    "\n",
    "# Train the model\n",
    "epochs = 10\n",
    "for epoch in range(epochs):\n",
    "    model.train()\n",
    "    epoch_loss = 0.0\n",
    "    correct = 0\n",
    "    total = 0\n",
    "\n",
    "    for batch_X, batch_y in train_loader:\n",
    "        optimizer.zero_grad()\n",
    "        outputs = model(batch_X)\n",
    "        loss = criterion(outputs, batch_y)\n",
    "        loss.backward()\n",
    "        optimizer.step()\n",
    "\n",
    "        epoch_loss += loss.item()\n",
    "        predictions = (outputs > 0.5).float()\n",
    "        correct += (predictions == batch_y).sum().item()\n",
    "        total += batch_y.size(0)\n",
    "\n",
    "    epoch_accuracy = correct / total\n",
    "    print(f\"Epoch {epoch + 1}/{epochs}, Loss: {epoch_loss / len(train_loader):.4f}, Accuracy: {epoch_accuracy:.4f}\")\n"
   ]
  },
  {
   "cell_type": "code",
   "execution_count": 6,
   "id": "547528ff",
   "metadata": {
    "execution": {
     "iopub.execute_input": "2025-02-19T15:45:23.826121Z",
     "iopub.status.busy": "2025-02-19T15:45:23.825627Z",
     "iopub.status.idle": "2025-02-19T15:45:23.835806Z",
     "shell.execute_reply": "2025-02-19T15:45:23.834536Z"
    },
    "papermill": {
     "duration": 0.022688,
     "end_time": "2025-02-19T15:45:23.837608",
     "exception": false,
     "start_time": "2025-02-19T15:45:23.814920",
     "status": "completed"
    },
    "tags": []
   },
   "outputs": [
    {
     "name": "stdout",
     "output_type": "stream",
     "text": [
      "Test Loss: 0.5046, Test Accuracy: 0.9000\n"
     ]
    }
   ],
   "source": [
    "# Evaluate the model\n",
    "model.eval()\n",
    "with torch.no_grad():\n",
    "    test_outputs = model(X_test_tensor)\n",
    "    test_loss = criterion(test_outputs, y_test_tensor).item()\n",
    "    test_predictions = (test_outputs > 0.5).float()\n",
    "    test_accuracy = (test_predictions == y_test_tensor).float().mean().item()\n",
    "\n",
    "print(f\"Test Loss: {test_loss:.4f}, Test Accuracy: {test_accuracy:.4f}\")"
   ]
  },
  {
   "cell_type": "markdown",
   "id": "d36f2a4e",
   "metadata": {
    "papermill": {
     "duration": 0.010889,
     "end_time": "2025-02-19T15:45:23.857683",
     "exception": false,
     "start_time": "2025-02-19T15:45:23.846794",
     "status": "completed"
    },
    "tags": []
   },
   "source": [
    "## Question 1"
   ]
  },
  {
   "cell_type": "code",
   "execution_count": 7,
   "id": "c0defb73",
   "metadata": {
    "execution": {
     "iopub.execute_input": "2025-02-19T15:45:23.876977Z",
     "iopub.status.busy": "2025-02-19T15:45:23.876602Z",
     "iopub.status.idle": "2025-02-19T15:45:24.735329Z",
     "shell.execute_reply": "2025-02-19T15:45:24.733836Z"
    },
    "papermill": {
     "duration": 0.8709,
     "end_time": "2025-02-19T15:45:24.737435",
     "exception": false,
     "start_time": "2025-02-19T15:45:23.866535",
     "status": "completed"
    },
    "tags": []
   },
   "outputs": [],
   "source": [
    "# Load and preprocess dataset\n",
    "url = \"https://archive.ics.uci.edu/ml/machine-learning-databases/00267/data_banknote_authentication.txt\"\n",
    "columns = ['f1', 'f2', 'f3', 'f4', 'target']\n",
    "data = pd.read_csv(url, header=None, names=columns, na_values=\"?\")\n"
   ]
  },
  {
   "cell_type": "code",
   "execution_count": 8,
   "id": "b00f49f8",
   "metadata": {
    "execution": {
     "iopub.execute_input": "2025-02-19T15:45:24.757627Z",
     "iopub.status.busy": "2025-02-19T15:45:24.757090Z",
     "iopub.status.idle": "2025-02-19T15:45:24.776979Z",
     "shell.execute_reply": "2025-02-19T15:45:24.775754Z"
    },
    "papermill": {
     "duration": 0.032147,
     "end_time": "2025-02-19T15:45:24.778852",
     "exception": false,
     "start_time": "2025-02-19T15:45:24.746705",
     "status": "completed"
    },
    "tags": []
   },
   "outputs": [
    {
     "data": {
      "text/html": [
       "<div>\n",
       "<style scoped>\n",
       "    .dataframe tbody tr th:only-of-type {\n",
       "        vertical-align: middle;\n",
       "    }\n",
       "\n",
       "    .dataframe tbody tr th {\n",
       "        vertical-align: top;\n",
       "    }\n",
       "\n",
       "    .dataframe thead th {\n",
       "        text-align: right;\n",
       "    }\n",
       "</style>\n",
       "<table border=\"1\" class=\"dataframe\">\n",
       "  <thead>\n",
       "    <tr style=\"text-align: right;\">\n",
       "      <th></th>\n",
       "      <th>f1</th>\n",
       "      <th>f2</th>\n",
       "      <th>f3</th>\n",
       "      <th>f4</th>\n",
       "      <th>target</th>\n",
       "    </tr>\n",
       "  </thead>\n",
       "  <tbody>\n",
       "    <tr>\n",
       "      <th>0</th>\n",
       "      <td>3.62160</td>\n",
       "      <td>8.6661</td>\n",
       "      <td>-2.8073</td>\n",
       "      <td>-0.44699</td>\n",
       "      <td>0</td>\n",
       "    </tr>\n",
       "    <tr>\n",
       "      <th>1</th>\n",
       "      <td>4.54590</td>\n",
       "      <td>8.1674</td>\n",
       "      <td>-2.4586</td>\n",
       "      <td>-1.46210</td>\n",
       "      <td>0</td>\n",
       "    </tr>\n",
       "    <tr>\n",
       "      <th>2</th>\n",
       "      <td>3.86600</td>\n",
       "      <td>-2.6383</td>\n",
       "      <td>1.9242</td>\n",
       "      <td>0.10645</td>\n",
       "      <td>0</td>\n",
       "    </tr>\n",
       "    <tr>\n",
       "      <th>3</th>\n",
       "      <td>3.45660</td>\n",
       "      <td>9.5228</td>\n",
       "      <td>-4.0112</td>\n",
       "      <td>-3.59440</td>\n",
       "      <td>0</td>\n",
       "    </tr>\n",
       "    <tr>\n",
       "      <th>4</th>\n",
       "      <td>0.32924</td>\n",
       "      <td>-4.4552</td>\n",
       "      <td>4.5718</td>\n",
       "      <td>-0.98880</td>\n",
       "      <td>0</td>\n",
       "    </tr>\n",
       "  </tbody>\n",
       "</table>\n",
       "</div>"
      ],
      "text/plain": [
       "        f1      f2      f3       f4  target\n",
       "0  3.62160  8.6661 -2.8073 -0.44699       0\n",
       "1  4.54590  8.1674 -2.4586 -1.46210       0\n",
       "2  3.86600 -2.6383  1.9242  0.10645       0\n",
       "3  3.45660  9.5228 -4.0112 -3.59440       0\n",
       "4  0.32924 -4.4552  4.5718 -0.98880       0"
      ]
     },
     "execution_count": 8,
     "metadata": {},
     "output_type": "execute_result"
    }
   ],
   "source": [
    "data.head()"
   ]
  },
  {
   "cell_type": "code",
   "execution_count": 9,
   "id": "bd735491",
   "metadata": {
    "execution": {
     "iopub.execute_input": "2025-02-19T15:45:24.797708Z",
     "iopub.status.busy": "2025-02-19T15:45:24.797343Z",
     "iopub.status.idle": "2025-02-19T15:45:24.804739Z",
     "shell.execute_reply": "2025-02-19T15:45:24.803646Z"
    },
    "papermill": {
     "duration": 0.018734,
     "end_time": "2025-02-19T15:45:24.806466",
     "exception": false,
     "start_time": "2025-02-19T15:45:24.787732",
     "status": "completed"
    },
    "tags": []
   },
   "outputs": [
    {
     "data": {
      "text/plain": [
       "f1        0\n",
       "f2        0\n",
       "f3        0\n",
       "f4        0\n",
       "target    0\n",
       "dtype: int64"
      ]
     },
     "execution_count": 9,
     "metadata": {},
     "output_type": "execute_result"
    }
   ],
   "source": [
    "data.isna().sum()"
   ]
  },
  {
   "cell_type": "code",
   "execution_count": 10,
   "id": "2899b92b",
   "metadata": {
    "execution": {
     "iopub.execute_input": "2025-02-19T15:45:24.825572Z",
     "iopub.status.busy": "2025-02-19T15:45:24.825186Z",
     "iopub.status.idle": "2025-02-19T15:45:24.832427Z",
     "shell.execute_reply": "2025-02-19T15:45:24.831034Z"
    },
    "papermill": {
     "duration": 0.018653,
     "end_time": "2025-02-19T15:45:24.834177",
     "exception": false,
     "start_time": "2025-02-19T15:45:24.815524",
     "status": "completed"
    },
    "tags": []
   },
   "outputs": [
    {
     "data": {
      "text/plain": [
       "f1        float64\n",
       "f2        float64\n",
       "f3        float64\n",
       "f4        float64\n",
       "target      int64\n",
       "dtype: object"
      ]
     },
     "execution_count": 10,
     "metadata": {},
     "output_type": "execute_result"
    }
   ],
   "source": [
    "data.dtypes"
   ]
  },
  {
   "cell_type": "code",
   "execution_count": 11,
   "id": "b3ba6b1d",
   "metadata": {
    "execution": {
     "iopub.execute_input": "2025-02-19T15:45:24.853951Z",
     "iopub.status.busy": "2025-02-19T15:45:24.853563Z",
     "iopub.status.idle": "2025-02-19T15:45:24.859164Z",
     "shell.execute_reply": "2025-02-19T15:45:24.858085Z"
    },
    "papermill": {
     "duration": 0.017301,
     "end_time": "2025-02-19T15:45:24.861009",
     "exception": false,
     "start_time": "2025-02-19T15:45:24.843708",
     "status": "completed"
    },
    "tags": []
   },
   "outputs": [],
   "source": [
    "x=data.drop(columns='target',axis=1).values\n",
    "y=data['target'].values"
   ]
  },
  {
   "cell_type": "code",
   "execution_count": 12,
   "id": "d1dafab8",
   "metadata": {
    "execution": {
     "iopub.execute_input": "2025-02-19T15:45:24.880234Z",
     "iopub.status.busy": "2025-02-19T15:45:24.879849Z",
     "iopub.status.idle": "2025-02-19T15:45:24.885774Z",
     "shell.execute_reply": "2025-02-19T15:45:24.884694Z"
    },
    "papermill": {
     "duration": 0.017523,
     "end_time": "2025-02-19T15:45:24.887568",
     "exception": false,
     "start_time": "2025-02-19T15:45:24.870045",
     "status": "completed"
    },
    "tags": []
   },
   "outputs": [],
   "source": [
    "scaler = StandardScaler()\n",
    "X = scaler.fit_transform(x)"
   ]
  },
  {
   "cell_type": "code",
   "execution_count": 13,
   "id": "8f474006",
   "metadata": {
    "execution": {
     "iopub.execute_input": "2025-02-19T15:45:24.906798Z",
     "iopub.status.busy": "2025-02-19T15:45:24.906424Z",
     "iopub.status.idle": "2025-02-19T15:45:24.912349Z",
     "shell.execute_reply": "2025-02-19T15:45:24.911320Z"
    },
    "papermill": {
     "duration": 0.017385,
     "end_time": "2025-02-19T15:45:24.914028",
     "exception": false,
     "start_time": "2025-02-19T15:45:24.896643",
     "status": "completed"
    },
    "tags": []
   },
   "outputs": [],
   "source": [
    "X_train,X_test,y_train,y_test=train_test_split(X,y,test_size=0.2,random_state=42)"
   ]
  },
  {
   "cell_type": "code",
   "execution_count": 14,
   "id": "61210ea6",
   "metadata": {
    "execution": {
     "iopub.execute_input": "2025-02-19T15:45:24.933300Z",
     "iopub.status.busy": "2025-02-19T15:45:24.932888Z",
     "iopub.status.idle": "2025-02-19T15:45:24.939282Z",
     "shell.execute_reply": "2025-02-19T15:45:24.938334Z"
    },
    "papermill": {
     "duration": 0.017664,
     "end_time": "2025-02-19T15:45:24.940939",
     "exception": false,
     "start_time": "2025-02-19T15:45:24.923275",
     "status": "completed"
    },
    "tags": []
   },
   "outputs": [],
   "source": [
    "# Convert data to PyTorch tensors\n",
    "X_train_tensor = torch.tensor(X_train, dtype=torch.float32)\n",
    "y_train_tensor = torch.tensor(y_train, dtype=torch.float32).unsqueeze(1)\n",
    "X_test_tensor = torch.tensor(X_test, dtype=torch.float32)\n",
    "y_test_tensor = torch.tensor(y_test, dtype=torch.float32).unsqueeze(1)\n",
    "\n",
    "# Create DataLoader for training\n",
    "train_dataset = TensorDataset(X_train_tensor, y_train_tensor)\n",
    "train_loader = DataLoader(train_dataset, batch_size=8, shuffle=True)\n",
    "\n"
   ]
  },
  {
   "cell_type": "code",
   "execution_count": 15,
   "id": "41ec6b95",
   "metadata": {
    "execution": {
     "iopub.execute_input": "2025-02-19T15:45:24.960362Z",
     "iopub.status.busy": "2025-02-19T15:45:24.959975Z",
     "iopub.status.idle": "2025-02-19T15:45:24.965564Z",
     "shell.execute_reply": "2025-02-19T15:45:24.964557Z"
    },
    "papermill": {
     "duration": 0.017357,
     "end_time": "2025-02-19T15:45:24.967320",
     "exception": false,
     "start_time": "2025-02-19T15:45:24.949963",
     "status": "completed"
    },
    "tags": []
   },
   "outputs": [],
   "source": [
    "# Define MLP model in PyTorch\n",
    "class MLPModel(nn.Module):\n",
    "    def __init__(self, input_dim):\n",
    "        super(MLPModel, self).__init__()\n",
    "        self.model = nn.Sequential(\n",
    "            nn.Linear(input_dim, 64),\n",
    "            nn.ReLU(),\n",
    "            nn.Linear(64, 32),\n",
    "            nn.ReLU(),\n",
    "            nn.Linear(32, 1),\n",
    "            nn.Sigmoid()\n",
    "        )\n",
    "\n",
    "    def forward(self, x):\n",
    "        return self.model(x)\n",
    "\n"
   ]
  },
  {
   "cell_type": "code",
   "execution_count": 16,
   "id": "711699c8",
   "metadata": {
    "execution": {
     "iopub.execute_input": "2025-02-19T15:45:24.986558Z",
     "iopub.status.busy": "2025-02-19T15:45:24.986120Z",
     "iopub.status.idle": "2025-02-19T15:45:27.139598Z",
     "shell.execute_reply": "2025-02-19T15:45:27.138009Z"
    },
    "papermill": {
     "duration": 2.165315,
     "end_time": "2025-02-19T15:45:27.141768",
     "exception": false,
     "start_time": "2025-02-19T15:45:24.976453",
     "status": "completed"
    },
    "tags": []
   },
   "outputs": [
    {
     "name": "stdout",
     "output_type": "stream",
     "text": [
      "Epoch 1/10, Loss: 0.0771, Accuracy: 0.9717\n",
      "Epoch 2/10, Loss: 0.0022, Accuracy: 1.0000\n",
      "Epoch 3/10, Loss: 0.0004, Accuracy: 1.0000\n",
      "Epoch 4/10, Loss: 0.0002, Accuracy: 1.0000\n",
      "Epoch 5/10, Loss: 0.0001, Accuracy: 1.0000\n",
      "Epoch 6/10, Loss: 0.0001, Accuracy: 1.0000\n",
      "Epoch 7/10, Loss: 0.0001, Accuracy: 1.0000\n",
      "Epoch 8/10, Loss: 0.0001, Accuracy: 1.0000\n",
      "Epoch 9/10, Loss: 0.0000, Accuracy: 1.0000\n",
      "Epoch 10/10, Loss: 0.0000, Accuracy: 1.0000\n"
     ]
    }
   ],
   "source": [
    "# Initialize model, loss function, and optimizer\n",
    "input_dim = X.shape[1]\n",
    "model = MLPModel(input_dim)\n",
    "criterion = nn.BCELoss()  # Binary Cross-Entropy Loss\n",
    "optimizer = optim.Adam(model.parameters(), lr=0.01)\n",
    "\n",
    "# Train the model\n",
    "epochs = 10\n",
    "for epoch in range(epochs):\n",
    "    model.train()\n",
    "    epoch_loss = 0.0\n",
    "    correct = 0\n",
    "    total = 0\n",
    "\n",
    "    for batch_X, batch_y in train_loader:\n",
    "        optimizer.zero_grad()\n",
    "        outputs = model(batch_X)\n",
    "        loss = criterion(outputs, batch_y)\n",
    "        loss.backward()\n",
    "        optimizer.step()\n",
    "\n",
    "        epoch_loss += loss.item()\n",
    "        predictions = (outputs > 0.5).float()\n",
    "        correct += (predictions == batch_y).sum().item()\n",
    "        total += batch_y.size(0)\n",
    "\n",
    "    epoch_accuracy = correct / total\n",
    "    print(f\"Epoch {epoch + 1}/{epochs}, Loss: {epoch_loss / len(train_loader):.4f}, Accuracy: {epoch_accuracy:.4f}\")\n"
   ]
  },
  {
   "cell_type": "code",
   "execution_count": 17,
   "id": "c0d0efb8",
   "metadata": {
    "execution": {
     "iopub.execute_input": "2025-02-19T15:45:27.167903Z",
     "iopub.status.busy": "2025-02-19T15:45:27.167575Z",
     "iopub.status.idle": "2025-02-19T15:45:27.176836Z",
     "shell.execute_reply": "2025-02-19T15:45:27.175579Z"
    },
    "papermill": {
     "duration": 0.021681,
     "end_time": "2025-02-19T15:45:27.178876",
     "exception": false,
     "start_time": "2025-02-19T15:45:27.157195",
     "status": "completed"
    },
    "tags": []
   },
   "outputs": [
    {
     "name": "stdout",
     "output_type": "stream",
     "text": [
      "Test Loss: 0.0000, Test Accuracy: 1.0000\n"
     ]
    }
   ],
   "source": [
    "# Evaluate the model\n",
    "model.eval()\n",
    "with torch.no_grad():\n",
    "    test_outputs = model(X_test_tensor)\n",
    "    test_loss = criterion(test_outputs, y_test_tensor).item()\n",
    "    test_predictions = (test_outputs > 0.5).float()\n",
    "    test_accuracy = (test_predictions == y_test_tensor).float().mean().item()\n",
    "\n",
    "print(f\"Test Loss: {test_loss:.4f}, Test Accuracy: {test_accuracy:.4f}\")"
   ]
  },
  {
   "cell_type": "markdown",
   "id": "5093b873",
   "metadata": {
    "papermill": {
     "duration": 0.009373,
     "end_time": "2025-02-19T15:45:27.198238",
     "exception": false,
     "start_time": "2025-02-19T15:45:27.188865",
     "status": "completed"
    },
    "tags": []
   },
   "source": [
    "## Question 2"
   ]
  },
  {
   "cell_type": "code",
   "execution_count": 18,
   "id": "3113ceff",
   "metadata": {
    "execution": {
     "iopub.execute_input": "2025-02-19T15:45:27.219080Z",
     "iopub.status.busy": "2025-02-19T15:45:27.218730Z",
     "iopub.status.idle": "2025-02-19T15:45:27.805927Z",
     "shell.execute_reply": "2025-02-19T15:45:27.804746Z"
    },
    "papermill": {
     "duration": 0.600117,
     "end_time": "2025-02-19T15:45:27.807779",
     "exception": false,
     "start_time": "2025-02-19T15:45:27.207662",
     "status": "completed"
    },
    "tags": []
   },
   "outputs": [
    {
     "data": {
      "text/html": [
       "<div>\n",
       "<style scoped>\n",
       "    .dataframe tbody tr th:only-of-type {\n",
       "        vertical-align: middle;\n",
       "    }\n",
       "\n",
       "    .dataframe tbody tr th {\n",
       "        vertical-align: top;\n",
       "    }\n",
       "\n",
       "    .dataframe thead th {\n",
       "        text-align: right;\n",
       "    }\n",
       "</style>\n",
       "<table border=\"1\" class=\"dataframe\">\n",
       "  <thead>\n",
       "    <tr style=\"text-align: right;\">\n",
       "      <th></th>\n",
       "      <th>PassengerId</th>\n",
       "      <th>Survived</th>\n",
       "      <th>Pclass</th>\n",
       "      <th>Name</th>\n",
       "      <th>Sex</th>\n",
       "      <th>Age</th>\n",
       "      <th>SibSp</th>\n",
       "      <th>Parch</th>\n",
       "      <th>Ticket</th>\n",
       "      <th>Fare</th>\n",
       "      <th>Cabin</th>\n",
       "      <th>Embarked</th>\n",
       "    </tr>\n",
       "  </thead>\n",
       "  <tbody>\n",
       "    <tr>\n",
       "      <th>0</th>\n",
       "      <td>1</td>\n",
       "      <td>0</td>\n",
       "      <td>3</td>\n",
       "      <td>Braund, Mr. Owen Harris</td>\n",
       "      <td>male</td>\n",
       "      <td>22.0</td>\n",
       "      <td>1</td>\n",
       "      <td>0</td>\n",
       "      <td>A/5 21171</td>\n",
       "      <td>7.2500</td>\n",
       "      <td>NaN</td>\n",
       "      <td>S</td>\n",
       "    </tr>\n",
       "    <tr>\n",
       "      <th>1</th>\n",
       "      <td>2</td>\n",
       "      <td>1</td>\n",
       "      <td>1</td>\n",
       "      <td>Cumings, Mrs. John Bradley (Florence Briggs Th...</td>\n",
       "      <td>female</td>\n",
       "      <td>38.0</td>\n",
       "      <td>1</td>\n",
       "      <td>0</td>\n",
       "      <td>PC 17599</td>\n",
       "      <td>71.2833</td>\n",
       "      <td>C85</td>\n",
       "      <td>C</td>\n",
       "    </tr>\n",
       "    <tr>\n",
       "      <th>2</th>\n",
       "      <td>3</td>\n",
       "      <td>1</td>\n",
       "      <td>3</td>\n",
       "      <td>Heikkinen, Miss. Laina</td>\n",
       "      <td>female</td>\n",
       "      <td>26.0</td>\n",
       "      <td>0</td>\n",
       "      <td>0</td>\n",
       "      <td>STON/O2. 3101282</td>\n",
       "      <td>7.9250</td>\n",
       "      <td>NaN</td>\n",
       "      <td>S</td>\n",
       "    </tr>\n",
       "    <tr>\n",
       "      <th>3</th>\n",
       "      <td>4</td>\n",
       "      <td>1</td>\n",
       "      <td>1</td>\n",
       "      <td>Futrelle, Mrs. Jacques Heath (Lily May Peel)</td>\n",
       "      <td>female</td>\n",
       "      <td>35.0</td>\n",
       "      <td>1</td>\n",
       "      <td>0</td>\n",
       "      <td>113803</td>\n",
       "      <td>53.1000</td>\n",
       "      <td>C123</td>\n",
       "      <td>S</td>\n",
       "    </tr>\n",
       "    <tr>\n",
       "      <th>4</th>\n",
       "      <td>5</td>\n",
       "      <td>0</td>\n",
       "      <td>3</td>\n",
       "      <td>Allen, Mr. William Henry</td>\n",
       "      <td>male</td>\n",
       "      <td>35.0</td>\n",
       "      <td>0</td>\n",
       "      <td>0</td>\n",
       "      <td>373450</td>\n",
       "      <td>8.0500</td>\n",
       "      <td>NaN</td>\n",
       "      <td>S</td>\n",
       "    </tr>\n",
       "  </tbody>\n",
       "</table>\n",
       "</div>"
      ],
      "text/plain": [
       "   PassengerId  Survived  Pclass  \\\n",
       "0            1         0       3   \n",
       "1            2         1       1   \n",
       "2            3         1       3   \n",
       "3            4         1       1   \n",
       "4            5         0       3   \n",
       "\n",
       "                                                Name     Sex   Age  SibSp  \\\n",
       "0                            Braund, Mr. Owen Harris    male  22.0      1   \n",
       "1  Cumings, Mrs. John Bradley (Florence Briggs Th...  female  38.0      1   \n",
       "2                             Heikkinen, Miss. Laina  female  26.0      0   \n",
       "3       Futrelle, Mrs. Jacques Heath (Lily May Peel)  female  35.0      1   \n",
       "4                           Allen, Mr. William Henry    male  35.0      0   \n",
       "\n",
       "   Parch            Ticket     Fare Cabin Embarked  \n",
       "0      0         A/5 21171   7.2500   NaN        S  \n",
       "1      0          PC 17599  71.2833   C85        C  \n",
       "2      0  STON/O2. 3101282   7.9250   NaN        S  \n",
       "3      0            113803  53.1000  C123        S  \n",
       "4      0            373450   8.0500   NaN        S  "
      ]
     },
     "execution_count": 18,
     "metadata": {},
     "output_type": "execute_result"
    }
   ],
   "source": [
    "\n",
    "url=\"https://raw.githubusercontent.com/datasciencedojo/datasets/master/titanic.csv\"\n",
    "df=pd.read_csv(url)\n",
    "df.head()"
   ]
  },
  {
   "cell_type": "code",
   "execution_count": 19,
   "id": "b5e71059",
   "metadata": {
    "execution": {
     "iopub.execute_input": "2025-02-19T15:45:27.828705Z",
     "iopub.status.busy": "2025-02-19T15:45:27.828367Z",
     "iopub.status.idle": "2025-02-19T15:45:27.833968Z",
     "shell.execute_reply": "2025-02-19T15:45:27.833029Z"
    },
    "papermill": {
     "duration": 0.018249,
     "end_time": "2025-02-19T15:45:27.835778",
     "exception": false,
     "start_time": "2025-02-19T15:45:27.817529",
     "status": "completed"
    },
    "tags": []
   },
   "outputs": [
    {
     "data": {
      "text/plain": [
       "(891, 12)"
      ]
     },
     "execution_count": 19,
     "metadata": {},
     "output_type": "execute_result"
    }
   ],
   "source": [
    "df.shape"
   ]
  },
  {
   "cell_type": "code",
   "execution_count": 20,
   "id": "9eb260a4",
   "metadata": {
    "execution": {
     "iopub.execute_input": "2025-02-19T15:45:27.857072Z",
     "iopub.status.busy": "2025-02-19T15:45:27.856750Z",
     "iopub.status.idle": "2025-02-19T15:45:27.863870Z",
     "shell.execute_reply": "2025-02-19T15:45:27.862575Z"
    },
    "papermill": {
     "duration": 0.019988,
     "end_time": "2025-02-19T15:45:27.865678",
     "exception": false,
     "start_time": "2025-02-19T15:45:27.845690",
     "status": "completed"
    },
    "tags": []
   },
   "outputs": [],
   "source": [
    "df.drop(columns=['PassengerId','Name','Ticket','Cabin'],axis=1,inplace=True)"
   ]
  },
  {
   "cell_type": "code",
   "execution_count": 21,
   "id": "1ca76d19",
   "metadata": {
    "execution": {
     "iopub.execute_input": "2025-02-19T15:45:27.887046Z",
     "iopub.status.busy": "2025-02-19T15:45:27.886677Z",
     "iopub.status.idle": "2025-02-19T15:45:27.894428Z",
     "shell.execute_reply": "2025-02-19T15:45:27.893350Z"
    },
    "papermill": {
     "duration": 0.020967,
     "end_time": "2025-02-19T15:45:27.896456",
     "exception": false,
     "start_time": "2025-02-19T15:45:27.875489",
     "status": "completed"
    },
    "tags": []
   },
   "outputs": [
    {
     "data": {
      "text/plain": [
       "Survived      0\n",
       "Pclass        0\n",
       "Sex           0\n",
       "Age         177\n",
       "SibSp         0\n",
       "Parch         0\n",
       "Fare          0\n",
       "Embarked      2\n",
       "dtype: int64"
      ]
     },
     "execution_count": 21,
     "metadata": {},
     "output_type": "execute_result"
    }
   ],
   "source": [
    "df.isna().sum()"
   ]
  },
  {
   "cell_type": "code",
   "execution_count": 22,
   "id": "14bbfa63",
   "metadata": {
    "execution": {
     "iopub.execute_input": "2025-02-19T15:45:27.919489Z",
     "iopub.status.busy": "2025-02-19T15:45:27.919014Z",
     "iopub.status.idle": "2025-02-19T15:45:27.925534Z",
     "shell.execute_reply": "2025-02-19T15:45:27.924388Z"
    },
    "papermill": {
     "duration": 0.020977,
     "end_time": "2025-02-19T15:45:27.927397",
     "exception": false,
     "start_time": "2025-02-19T15:45:27.906420",
     "status": "completed"
    },
    "tags": []
   },
   "outputs": [],
   "source": [
    "df['Age']=df['Age'].fillna(df['Age'].mean())"
   ]
  },
  {
   "cell_type": "code",
   "execution_count": 23,
   "id": "44730c29",
   "metadata": {
    "execution": {
     "iopub.execute_input": "2025-02-19T15:45:27.948358Z",
     "iopub.status.busy": "2025-02-19T15:45:27.947965Z",
     "iopub.status.idle": "2025-02-19T15:45:27.959682Z",
     "shell.execute_reply": "2025-02-19T15:45:27.958614Z"
    },
    "papermill": {
     "duration": 0.024033,
     "end_time": "2025-02-19T15:45:27.961456",
     "exception": false,
     "start_time": "2025-02-19T15:45:27.937423",
     "status": "completed"
    },
    "tags": []
   },
   "outputs": [
    {
     "data": {
      "text/plain": [
       "Embarked\n",
       "S    644\n",
       "C    168\n",
       "Q     77\n",
       "Name: count, dtype: int64"
      ]
     },
     "execution_count": 23,
     "metadata": {},
     "output_type": "execute_result"
    }
   ],
   "source": [
    "df['Embarked'].value_counts()"
   ]
  },
  {
   "cell_type": "code",
   "execution_count": 24,
   "id": "d38c9195",
   "metadata": {
    "execution": {
     "iopub.execute_input": "2025-02-19T15:45:27.982561Z",
     "iopub.status.busy": "2025-02-19T15:45:27.982129Z",
     "iopub.status.idle": "2025-02-19T15:45:27.987466Z",
     "shell.execute_reply": "2025-02-19T15:45:27.986413Z"
    },
    "papermill": {
     "duration": 0.017798,
     "end_time": "2025-02-19T15:45:27.989215",
     "exception": false,
     "start_time": "2025-02-19T15:45:27.971417",
     "status": "completed"
    },
    "tags": []
   },
   "outputs": [],
   "source": [
    "df['Embarked']=df['Embarked'].fillna('S')"
   ]
  },
  {
   "cell_type": "code",
   "execution_count": 25,
   "id": "983cb198",
   "metadata": {
    "execution": {
     "iopub.execute_input": "2025-02-19T15:45:28.010224Z",
     "iopub.status.busy": "2025-02-19T15:45:28.009860Z",
     "iopub.status.idle": "2025-02-19T15:45:28.017912Z",
     "shell.execute_reply": "2025-02-19T15:45:28.016921Z"
    },
    "papermill": {
     "duration": 0.020482,
     "end_time": "2025-02-19T15:45:28.019696",
     "exception": false,
     "start_time": "2025-02-19T15:45:27.999214",
     "status": "completed"
    },
    "tags": []
   },
   "outputs": [
    {
     "data": {
      "text/plain": [
       "Survived    0\n",
       "Pclass      0\n",
       "Sex         0\n",
       "Age         0\n",
       "SibSp       0\n",
       "Parch       0\n",
       "Fare        0\n",
       "Embarked    0\n",
       "dtype: int64"
      ]
     },
     "execution_count": 25,
     "metadata": {},
     "output_type": "execute_result"
    }
   ],
   "source": [
    "df.isna().sum()"
   ]
  },
  {
   "cell_type": "code",
   "execution_count": 26,
   "id": "334305db",
   "metadata": {
    "execution": {
     "iopub.execute_input": "2025-02-19T15:45:28.041412Z",
     "iopub.status.busy": "2025-02-19T15:45:28.040986Z",
     "iopub.status.idle": "2025-02-19T15:45:28.054319Z",
     "shell.execute_reply": "2025-02-19T15:45:28.053187Z"
    },
    "papermill": {
     "duration": 0.026316,
     "end_time": "2025-02-19T15:45:28.056167",
     "exception": false,
     "start_time": "2025-02-19T15:45:28.029851",
     "status": "completed"
    },
    "tags": []
   },
   "outputs": [],
   "source": [
    "df=pd.get_dummies(df,columns=['Sex','Embarked'])"
   ]
  },
  {
   "cell_type": "code",
   "execution_count": 27,
   "id": "14e8932f",
   "metadata": {
    "execution": {
     "iopub.execute_input": "2025-02-19T15:45:28.077810Z",
     "iopub.status.busy": "2025-02-19T15:45:28.077356Z",
     "iopub.status.idle": "2025-02-19T15:45:28.093053Z",
     "shell.execute_reply": "2025-02-19T15:45:28.091977Z"
    },
    "papermill": {
     "duration": 0.028483,
     "end_time": "2025-02-19T15:45:28.094974",
     "exception": false,
     "start_time": "2025-02-19T15:45:28.066491",
     "status": "completed"
    },
    "tags": []
   },
   "outputs": [
    {
     "data": {
      "text/html": [
       "<div>\n",
       "<style scoped>\n",
       "    .dataframe tbody tr th:only-of-type {\n",
       "        vertical-align: middle;\n",
       "    }\n",
       "\n",
       "    .dataframe tbody tr th {\n",
       "        vertical-align: top;\n",
       "    }\n",
       "\n",
       "    .dataframe thead th {\n",
       "        text-align: right;\n",
       "    }\n",
       "</style>\n",
       "<table border=\"1\" class=\"dataframe\">\n",
       "  <thead>\n",
       "    <tr style=\"text-align: right;\">\n",
       "      <th></th>\n",
       "      <th>Survived</th>\n",
       "      <th>Pclass</th>\n",
       "      <th>Age</th>\n",
       "      <th>SibSp</th>\n",
       "      <th>Parch</th>\n",
       "      <th>Fare</th>\n",
       "      <th>Sex_female</th>\n",
       "      <th>Sex_male</th>\n",
       "      <th>Embarked_C</th>\n",
       "      <th>Embarked_Q</th>\n",
       "      <th>Embarked_S</th>\n",
       "    </tr>\n",
       "  </thead>\n",
       "  <tbody>\n",
       "    <tr>\n",
       "      <th>0</th>\n",
       "      <td>0</td>\n",
       "      <td>3</td>\n",
       "      <td>22.0</td>\n",
       "      <td>1</td>\n",
       "      <td>0</td>\n",
       "      <td>7.2500</td>\n",
       "      <td>False</td>\n",
       "      <td>True</td>\n",
       "      <td>False</td>\n",
       "      <td>False</td>\n",
       "      <td>True</td>\n",
       "    </tr>\n",
       "    <tr>\n",
       "      <th>1</th>\n",
       "      <td>1</td>\n",
       "      <td>1</td>\n",
       "      <td>38.0</td>\n",
       "      <td>1</td>\n",
       "      <td>0</td>\n",
       "      <td>71.2833</td>\n",
       "      <td>True</td>\n",
       "      <td>False</td>\n",
       "      <td>True</td>\n",
       "      <td>False</td>\n",
       "      <td>False</td>\n",
       "    </tr>\n",
       "    <tr>\n",
       "      <th>2</th>\n",
       "      <td>1</td>\n",
       "      <td>3</td>\n",
       "      <td>26.0</td>\n",
       "      <td>0</td>\n",
       "      <td>0</td>\n",
       "      <td>7.9250</td>\n",
       "      <td>True</td>\n",
       "      <td>False</td>\n",
       "      <td>False</td>\n",
       "      <td>False</td>\n",
       "      <td>True</td>\n",
       "    </tr>\n",
       "    <tr>\n",
       "      <th>3</th>\n",
       "      <td>1</td>\n",
       "      <td>1</td>\n",
       "      <td>35.0</td>\n",
       "      <td>1</td>\n",
       "      <td>0</td>\n",
       "      <td>53.1000</td>\n",
       "      <td>True</td>\n",
       "      <td>False</td>\n",
       "      <td>False</td>\n",
       "      <td>False</td>\n",
       "      <td>True</td>\n",
       "    </tr>\n",
       "    <tr>\n",
       "      <th>4</th>\n",
       "      <td>0</td>\n",
       "      <td>3</td>\n",
       "      <td>35.0</td>\n",
       "      <td>0</td>\n",
       "      <td>0</td>\n",
       "      <td>8.0500</td>\n",
       "      <td>False</td>\n",
       "      <td>True</td>\n",
       "      <td>False</td>\n",
       "      <td>False</td>\n",
       "      <td>True</td>\n",
       "    </tr>\n",
       "  </tbody>\n",
       "</table>\n",
       "</div>"
      ],
      "text/plain": [
       "   Survived  Pclass   Age  SibSp  Parch     Fare  Sex_female  Sex_male  \\\n",
       "0         0       3  22.0      1      0   7.2500       False      True   \n",
       "1         1       1  38.0      1      0  71.2833        True     False   \n",
       "2         1       3  26.0      0      0   7.9250        True     False   \n",
       "3         1       1  35.0      1      0  53.1000        True     False   \n",
       "4         0       3  35.0      0      0   8.0500       False      True   \n",
       "\n",
       "   Embarked_C  Embarked_Q  Embarked_S  \n",
       "0       False       False        True  \n",
       "1        True       False       False  \n",
       "2       False       False        True  \n",
       "3       False       False        True  \n",
       "4       False       False        True  "
      ]
     },
     "execution_count": 27,
     "metadata": {},
     "output_type": "execute_result"
    }
   ],
   "source": [
    "df.head()\n"
   ]
  },
  {
   "cell_type": "code",
   "execution_count": 28,
   "id": "7c2b1e6c",
   "metadata": {
    "execution": {
     "iopub.execute_input": "2025-02-19T15:45:28.116945Z",
     "iopub.status.busy": "2025-02-19T15:45:28.116588Z",
     "iopub.status.idle": "2025-02-19T15:45:28.138656Z",
     "shell.execute_reply": "2025-02-19T15:45:28.137441Z"
    },
    "papermill": {
     "duration": 0.035357,
     "end_time": "2025-02-19T15:45:28.140771",
     "exception": false,
     "start_time": "2025-02-19T15:45:28.105414",
     "status": "completed"
    },
    "tags": []
   },
   "outputs": [],
   "source": [
    "x=df.drop(columns=['Survived']).values\n",
    "y=df['Survived'].values\n",
    "scaler = StandardScaler()\n",
    "X = scaler.fit_transform(x)\n",
    "X_train,X_test,y_train,y_test=train_test_split(X,y,test_size=0.2,random_state=42)"
   ]
  },
  {
   "cell_type": "code",
   "execution_count": 29,
   "id": "848175ff",
   "metadata": {
    "execution": {
     "iopub.execute_input": "2025-02-19T15:45:28.162967Z",
     "iopub.status.busy": "2025-02-19T15:45:28.162608Z",
     "iopub.status.idle": "2025-02-19T15:45:28.169643Z",
     "shell.execute_reply": "2025-02-19T15:45:28.168228Z"
    },
    "papermill": {
     "duration": 0.020161,
     "end_time": "2025-02-19T15:45:28.171319",
     "exception": false,
     "start_time": "2025-02-19T15:45:28.151158",
     "status": "completed"
    },
    "tags": []
   },
   "outputs": [],
   "source": [
    "# Convert data to PyTorch tensors\n",
    "X_train_tensor = torch.tensor(X_train, dtype=torch.float32)\n",
    "y_train_tensor = torch.tensor(y_train, dtype=torch.float32).unsqueeze(1)\n",
    "X_test_tensor = torch.tensor(X_test, dtype=torch.float32)\n",
    "y_test_tensor = torch.tensor(y_test, dtype=torch.float32).unsqueeze(1)\n",
    "\n",
    "# Create DataLoader for training\n",
    "train_dataset = TensorDataset(X_train_tensor, y_train_tensor)\n",
    "train_loader = DataLoader(train_dataset, batch_size=8, shuffle=True)\n",
    "\n"
   ]
  },
  {
   "cell_type": "code",
   "execution_count": 30,
   "id": "616f0e09",
   "metadata": {
    "execution": {
     "iopub.execute_input": "2025-02-19T15:45:28.194846Z",
     "iopub.status.busy": "2025-02-19T15:45:28.194481Z",
     "iopub.status.idle": "2025-02-19T15:45:28.200172Z",
     "shell.execute_reply": "2025-02-19T15:45:28.199214Z"
    },
    "papermill": {
     "duration": 0.019701,
     "end_time": "2025-02-19T15:45:28.201991",
     "exception": false,
     "start_time": "2025-02-19T15:45:28.182290",
     "status": "completed"
    },
    "tags": []
   },
   "outputs": [],
   "source": [
    "# Define MLP model in PyTorch\n",
    "class MLPModel(nn.Module):\n",
    "    def __init__(self, input_dim):\n",
    "        super(MLPModel, self).__init__()\n",
    "        self.model = nn.Sequential(\n",
    "            nn.Linear(input_dim, 64),\n",
    "            nn.ReLU(),\n",
    "            nn.Linear(64, 32),\n",
    "            nn.ReLU(),\n",
    "            nn.Linear(32, 1),\n",
    "            nn.Sigmoid()\n",
    "        )\n",
    "\n",
    "    def forward(self, x):\n",
    "        return self.model(x)\n",
    "\n"
   ]
  },
  {
   "cell_type": "code",
   "execution_count": 31,
   "id": "d766c823",
   "metadata": {
    "execution": {
     "iopub.execute_input": "2025-02-19T15:45:28.224583Z",
     "iopub.status.busy": "2025-02-19T15:45:28.224172Z",
     "iopub.status.idle": "2025-02-19T15:45:32.168240Z",
     "shell.execute_reply": "2025-02-19T15:45:32.166742Z"
    },
    "papermill": {
     "duration": 3.95763,
     "end_time": "2025-02-19T15:45:32.170138",
     "exception": false,
     "start_time": "2025-02-19T15:45:28.212508",
     "status": "completed"
    },
    "tags": []
   },
   "outputs": [
    {
     "name": "stdout",
     "output_type": "stream",
     "text": [
      "Epoch 1/30, Loss: 0.4743, Accuracy: 0.7809\n",
      "Epoch 2/30, Loss: 0.4493, Accuracy: 0.8301\n",
      "Epoch 3/30, Loss: 0.4208, Accuracy: 0.8230\n",
      "Epoch 4/30, Loss: 0.4116, Accuracy: 0.8371\n",
      "Epoch 5/30, Loss: 0.4165, Accuracy: 0.8357\n",
      "Epoch 6/30, Loss: 0.4093, Accuracy: 0.8413\n",
      "Epoch 7/30, Loss: 0.3995, Accuracy: 0.8329\n",
      "Epoch 8/30, Loss: 0.4018, Accuracy: 0.8357\n",
      "Epoch 9/30, Loss: 0.3878, Accuracy: 0.8413\n",
      "Epoch 10/30, Loss: 0.3997, Accuracy: 0.8329\n",
      "Epoch 11/30, Loss: 0.3869, Accuracy: 0.8385\n",
      "Epoch 12/30, Loss: 0.3809, Accuracy: 0.8455\n",
      "Epoch 13/30, Loss: 0.3832, Accuracy: 0.8413\n",
      "Epoch 14/30, Loss: 0.3779, Accuracy: 0.8455\n",
      "Epoch 15/30, Loss: 0.3794, Accuracy: 0.8441\n",
      "Epoch 16/30, Loss: 0.3833, Accuracy: 0.8497\n",
      "Epoch 17/30, Loss: 0.3819, Accuracy: 0.8455\n",
      "Epoch 18/30, Loss: 0.3599, Accuracy: 0.8483\n",
      "Epoch 19/30, Loss: 0.3705, Accuracy: 0.8539\n",
      "Epoch 20/30, Loss: 0.3647, Accuracy: 0.8525\n",
      "Epoch 21/30, Loss: 0.3662, Accuracy: 0.8441\n",
      "Epoch 22/30, Loss: 0.3635, Accuracy: 0.8469\n",
      "Epoch 23/30, Loss: 0.3719, Accuracy: 0.8497\n",
      "Epoch 24/30, Loss: 0.3554, Accuracy: 0.8539\n",
      "Epoch 25/30, Loss: 0.3589, Accuracy: 0.8441\n",
      "Epoch 26/30, Loss: 0.3699, Accuracy: 0.8455\n",
      "Epoch 27/30, Loss: 0.3654, Accuracy: 0.8455\n",
      "Epoch 28/30, Loss: 0.3583, Accuracy: 0.8441\n",
      "Epoch 29/30, Loss: 0.3533, Accuracy: 0.8427\n",
      "Epoch 30/30, Loss: 0.3535, Accuracy: 0.8581\n"
     ]
    }
   ],
   "source": [
    "# Initialize model, loss function, and optimizer\n",
    "input_dim = X.shape[1]\n",
    "model = MLPModel(input_dim)\n",
    "criterion = nn.BCELoss()  \n",
    "optimizer = optim.Adam(model.parameters(), lr=0.01)\n",
    "\n",
    "# Train the model\n",
    "epochs = 30\n",
    "for epoch in range(epochs):\n",
    "    model.train()\n",
    "    epoch_loss = 0.0\n",
    "    correct = 0\n",
    "    total = 0\n",
    "\n",
    "    for batch_X, batch_y in train_loader:\n",
    "        optimizer.zero_grad()\n",
    "        outputs = model(batch_X)\n",
    "        loss = criterion(outputs, batch_y)\n",
    "        loss.backward()\n",
    "        optimizer.step()\n",
    "\n",
    "        epoch_loss += loss.item()\n",
    "        predictions = (outputs > 0.5).float()\n",
    "        correct += (predictions == batch_y).sum().item()\n",
    "        total += batch_y.size(0)\n",
    "\n",
    "    epoch_accuracy = correct / total\n",
    "    print(f\"Epoch {epoch + 1}/{epochs}, Loss: {epoch_loss / len(train_loader):.4f}, Accuracy: {epoch_accuracy:.4f}\")\n"
   ]
  },
  {
   "cell_type": "code",
   "execution_count": 32,
   "id": "8faf4a68",
   "metadata": {
    "execution": {
     "iopub.execute_input": "2025-02-19T15:45:32.193799Z",
     "iopub.status.busy": "2025-02-19T15:45:32.193461Z",
     "iopub.status.idle": "2025-02-19T15:45:32.200523Z",
     "shell.execute_reply": "2025-02-19T15:45:32.199376Z"
    },
    "papermill": {
     "duration": 0.020559,
     "end_time": "2025-02-19T15:45:32.202159",
     "exception": false,
     "start_time": "2025-02-19T15:45:32.181600",
     "status": "completed"
    },
    "tags": []
   },
   "outputs": [
    {
     "name": "stdout",
     "output_type": "stream",
     "text": [
      "Test Loss: 0.5051, Test Accuracy: 0.8045\n"
     ]
    }
   ],
   "source": [
    "# Evaluate the model\n",
    "model.eval()\n",
    "with torch.no_grad():\n",
    "    test_outputs = model(X_test_tensor)\n",
    "    test_loss = criterion(test_outputs, y_test_tensor).item()\n",
    "    test_predictions = (test_outputs > 0.5).float()\n",
    "    test_accuracy = (test_predictions == y_test_tensor).float().mean().item()\n",
    "\n",
    "print(f\"Test Loss: {test_loss:.4f}, Test Accuracy: {test_accuracy:.4f}\")\n"
   ]
  },
  {
   "cell_type": "code",
   "execution_count": null,
   "id": "008ec491",
   "metadata": {
    "papermill": {
     "duration": 0.010879,
     "end_time": "2025-02-19T15:45:32.224393",
     "exception": false,
     "start_time": "2025-02-19T15:45:32.213514",
     "status": "completed"
    },
    "tags": []
   },
   "outputs": [],
   "source": []
  },
  {
   "cell_type": "code",
   "execution_count": null,
   "id": "d389ec2a",
   "metadata": {
    "papermill": {
     "duration": 0.010793,
     "end_time": "2025-02-19T15:45:32.246466",
     "exception": false,
     "start_time": "2025-02-19T15:45:32.235673",
     "status": "completed"
    },
    "tags": []
   },
   "outputs": [],
   "source": []
  },
  {
   "cell_type": "code",
   "execution_count": null,
   "id": "2706d8f1",
   "metadata": {
    "papermill": {
     "duration": 0.010767,
     "end_time": "2025-02-19T15:45:32.268343",
     "exception": false,
     "start_time": "2025-02-19T15:45:32.257576",
     "status": "completed"
    },
    "tags": []
   },
   "outputs": [],
   "source": []
  },
  {
   "cell_type": "code",
   "execution_count": null,
   "id": "0013093d",
   "metadata": {
    "papermill": {
     "duration": 0.01064,
     "end_time": "2025-02-19T15:45:32.290597",
     "exception": false,
     "start_time": "2025-02-19T15:45:32.279957",
     "status": "completed"
    },
    "tags": []
   },
   "outputs": [],
   "source": []
  },
  {
   "cell_type": "code",
   "execution_count": null,
   "id": "6a3361aa",
   "metadata": {
    "papermill": {
     "duration": 0.010568,
     "end_time": "2025-02-19T15:45:32.312319",
     "exception": false,
     "start_time": "2025-02-19T15:45:32.301751",
     "status": "completed"
    },
    "tags": []
   },
   "outputs": [],
   "source": []
  },
  {
   "cell_type": "code",
   "execution_count": null,
   "id": "ed4f9c06",
   "metadata": {
    "papermill": {
     "duration": 0.011123,
     "end_time": "2025-02-19T15:45:32.334301",
     "exception": false,
     "start_time": "2025-02-19T15:45:32.323178",
     "status": "completed"
    },
    "tags": []
   },
   "outputs": [],
   "source": []
  },
  {
   "cell_type": "code",
   "execution_count": null,
   "id": "968317e6",
   "metadata": {
    "papermill": {
     "duration": 0.011047,
     "end_time": "2025-02-19T15:45:32.356394",
     "exception": false,
     "start_time": "2025-02-19T15:45:32.345347",
     "status": "completed"
    },
    "tags": []
   },
   "outputs": [],
   "source": []
  },
  {
   "cell_type": "code",
   "execution_count": null,
   "id": "e4350520",
   "metadata": {
    "papermill": {
     "duration": 0.011083,
     "end_time": "2025-02-19T15:45:32.378657",
     "exception": false,
     "start_time": "2025-02-19T15:45:32.367574",
     "status": "completed"
    },
    "tags": []
   },
   "outputs": [],
   "source": []
  },
  {
   "cell_type": "code",
   "execution_count": null,
   "id": "8b28f704",
   "metadata": {
    "papermill": {
     "duration": 0.01146,
     "end_time": "2025-02-19T15:45:32.401434",
     "exception": false,
     "start_time": "2025-02-19T15:45:32.389974",
     "status": "completed"
    },
    "tags": []
   },
   "outputs": [],
   "source": []
  },
  {
   "cell_type": "code",
   "execution_count": null,
   "id": "11d1db07",
   "metadata": {
    "papermill": {
     "duration": 0.010585,
     "end_time": "2025-02-19T15:45:32.422994",
     "exception": false,
     "start_time": "2025-02-19T15:45:32.412409",
     "status": "completed"
    },
    "tags": []
   },
   "outputs": [],
   "source": []
  },
  {
   "cell_type": "code",
   "execution_count": null,
   "id": "233f0657",
   "metadata": {
    "papermill": {
     "duration": 0.010586,
     "end_time": "2025-02-19T15:45:32.444861",
     "exception": false,
     "start_time": "2025-02-19T15:45:32.434275",
     "status": "completed"
    },
    "tags": []
   },
   "outputs": [],
   "source": []
  },
  {
   "cell_type": "code",
   "execution_count": null,
   "id": "a366e922",
   "metadata": {
    "papermill": {
     "duration": 0.010848,
     "end_time": "2025-02-19T15:45:32.466790",
     "exception": false,
     "start_time": "2025-02-19T15:45:32.455942",
     "status": "completed"
    },
    "tags": []
   },
   "outputs": [],
   "source": []
  },
  {
   "cell_type": "code",
   "execution_count": null,
   "id": "121a7a5a",
   "metadata": {
    "papermill": {
     "duration": 0.01069,
     "end_time": "2025-02-19T15:45:32.488437",
     "exception": false,
     "start_time": "2025-02-19T15:45:32.477747",
     "status": "completed"
    },
    "tags": []
   },
   "outputs": [],
   "source": []
  },
  {
   "cell_type": "code",
   "execution_count": null,
   "id": "011b49d1",
   "metadata": {
    "papermill": {
     "duration": 0.010576,
     "end_time": "2025-02-19T15:45:32.510045",
     "exception": false,
     "start_time": "2025-02-19T15:45:32.499469",
     "status": "completed"
    },
    "tags": []
   },
   "outputs": [],
   "source": []
  },
  {
   "cell_type": "code",
   "execution_count": null,
   "id": "c48622a5",
   "metadata": {
    "papermill": {
     "duration": 0.010717,
     "end_time": "2025-02-19T15:45:32.531717",
     "exception": false,
     "start_time": "2025-02-19T15:45:32.521000",
     "status": "completed"
    },
    "tags": []
   },
   "outputs": [],
   "source": []
  }
 ],
 "metadata": {
  "kaggle": {
   "accelerator": "none",
   "dataSources": [],
   "dockerImageVersionId": 30840,
   "isGpuEnabled": false,
   "isInternetEnabled": true,
   "language": "python",
   "sourceType": "notebook"
  },
  "kernelspec": {
   "display_name": "Python 3",
   "language": "python",
   "name": "python3"
  },
  "language_info": {
   "codemirror_mode": {
    "name": "ipython",
    "version": 3
   },
   "file_extension": ".py",
   "mimetype": "text/x-python",
   "name": "python",
   "nbconvert_exporter": "python",
   "pygments_lexer": "ipython3",
   "version": "3.10.12"
  },
  "papermill": {
   "default_parameters": {},
   "duration": 27.341069,
   "end_time": "2025-02-19T15:45:34.367387",
   "environment_variables": {},
   "exception": null,
   "input_path": "__notebook__.ipynb",
   "output_path": "__notebook__.ipynb",
   "parameters": {},
   "start_time": "2025-02-19T15:45:07.026318",
   "version": "2.6.0"
  }
 },
 "nbformat": 4,
 "nbformat_minor": 5
}
